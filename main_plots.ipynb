{
 "cells": [
  {
   "cell_type": "code",
   "execution_count": 1,
   "metadata": {
    "ExecuteTime": {
     "end_time": "2024-01-29T17:40:19.525273Z",
     "start_time": "2024-01-29T17:40:18.617566Z"
    }
   },
   "outputs": [
    {
     "name": "stderr",
     "output_type": "stream",
     "text": [
      "/var/folders/1c/f0py8khj3bx759_g1q03n6fc0000gn/T/ipykernel_21836/3074411568.py:3: DeprecationWarning: \n",
      "Pyarrow will become a required dependency of pandas in the next major release of pandas (pandas 3.0),\n",
      "(to allow more performant data types, such as the Arrow string type, and better interoperability with other libraries)\n",
      "but was not found to be installed on your system.\n",
      "If this would cause problems for you,\n",
      "please provide us feedback at https://github.com/pandas-dev/pandas/issues/54466\n",
      "        \n",
      "  import pandas as pd\n"
     ]
    }
   ],
   "source": [
    "import matplotlib.pyplot as plt\n",
    "import numpy as np\n",
    "import pandas as pd\n",
    "from itertools import product\n",
    "import matplotlib.cm as cm"
   ]
  },
  {
   "cell_type": "code",
   "execution_count": 40,
   "outputs": [],
   "source": [
    "# Optional preamble, for latex-looking figures\n",
    "\n",
    "import os\n",
    "# Get path with the command `which latex`\n",
    "os.environ[\"PATH\"] = \"/Library/TeX/texbin:$PATH\"\n",
    "plt.rcParams.update({\n",
    "    # Use LaTeX to write all text\n",
    "    \"text.usetex\": True,\n",
    "    \"font.family\": \"serif\",\n",
    "    \"font.sans-serif\": [\"Helvetica\"],\n",
    "    # To have access to AMS maths commands\n",
    "    'text.latex.preamble': r'\\usepackage{amsmath}',\n",
    "    # Use 10pt font in plots, to match 10pt font in document\n",
    "    \"axes.labelsize\": 10,\n",
    "    \"font.size\": 10,\n",
    "    # Make the legend/label fonts a little smaller\n",
    "    \"legend.fontsize\": 8,\n",
    "    \"xtick.labelsize\": 8,\n",
    "    \"ytick.labelsize\": 8\n",
    "})"
   ],
   "metadata": {
    "collapsed": false,
    "ExecuteTime": {
     "end_time": "2024-01-29T22:59:45.327425Z",
     "start_time": "2024-01-29T22:59:45.319187Z"
    }
   }
  },
  {
   "cell_type": "code",
   "execution_count": 45,
   "metadata": {
    "ExecuteTime": {
     "end_time": "2024-01-29T23:02:29.157882Z",
     "start_time": "2024-01-29T23:02:29.139595Z"
    }
   },
   "outputs": [
    {
     "data": {
      "text/plain": "Country  Sector    Category\nFrance   Food      D          -0.90\n                   DP         -1.10\n                   DPS        -0.50\n         Mobility  D          -2.60\n                   DP         -2.50\n                   DPS        -2.30\nUSA      Food      D          -0.52\n                   DP         -0.79\n                   DPS        -0.23\n         Mobility  D          -1.70\n                   DP         -1.30\n                   DPS        -0.90\ndtype: float64"
     },
     "execution_count": 45,
     "metadata": {},
     "output_type": "execute_result"
    }
   ],
   "source": [
    "# Generate random data\n",
    "index = pd.MultiIndex.from_tuples(\n",
    "    product((\"France\", \"USA\"), (\"Food\", \"Mobility\"), (\"D\", \"DP\", \"DPS\")),\n",
    "    names=['Country', 'Sector', 'Category']\n",
    ")\n",
    "\n",
    "np.random.seed(0)  # for reproducibility\n",
    "data = [-0.9, -1.1, -0.5, -2.6, -2.5, -2.3, - 0.52, -0.79, -0.23, -1.7, -1.3, -0.9]\n",
    "# data = -np.random.rand(len(index))\n",
    "series = pd.Series(data, index=index)\n",
    "\n",
    "series"
   ]
  },
  {
   "cell_type": "code",
   "execution_count": 46,
   "metadata": {
    "ExecuteTime": {
     "end_time": "2024-01-29T23:02:31.047613Z",
     "start_time": "2024-01-29T23:02:31.044460Z"
    }
   },
   "outputs": [],
   "source": [
    "n_countries = series.index.get_level_values(\"Country\").nunique()\n",
    "n_sectors = series.index.get_level_values(\"Sector\").nunique()\n",
    "n_categories = series.index.get_level_values(\"Category\").nunique()"
   ]
  },
  {
   "cell_type": "code",
   "execution_count": 47,
   "metadata": {
    "ExecuteTime": {
     "end_time": "2024-01-29T23:02:31.982172Z",
     "start_time": "2024-01-29T23:02:31.978203Z"
    }
   },
   "outputs": [],
   "source": [
    "# Some sizes in the plot, see figure for details \n",
    "\n",
    "# Size of blank space over size of ensemble of categories\n",
    "ratio_space = 0.5\n",
    "\n",
    "# Half-Blank Sector1 Blank Sector2 ... SectorN Half-Blank \n",
    "size_sectors = 1 / (n_sectors + ratio_space * n_sectors )\n",
    "size_blank = ratio_space * size_sectors\n",
    "\n",
    "# For each sector, multiple categories displayed\n",
    "size_categories = size_sectors / n_categories\n",
    "\n",
    "# Amount of space between bars and labels \n",
    "y_text_offset = 0.05\n",
    "y_label_categories = 0.03\n",
    "y_label_sector = 0.08"
   ]
  },
  {
   "cell_type": "code",
   "execution_count": 50,
   "outputs": [],
   "source": [
    "# Some sizes in the plot, see figure for details\n",
    "\n",
    "# Size of blank space over size of ensemble of categories\n",
    "ratio_space = 0.5\n",
    "\n",
    "# Half-Blank Sector1 Blank Sector2 ... SectorN Half-Blank\n",
    "size_sectors = 1 / (n_sectors + ratio_space * n_sectors )\n",
    "size_blank = ratio_space * size_sectors\n",
    "\n",
    "# For each sector, multiple categories displayed\n",
    "size_categories = size_sectors / n_categories\n",
    "\n",
    "# Amount of space between bars and labels\n",
    "y_text_offset = 0.25\n",
    "y_label_categories = 0.05\n",
    "y_label_sector = 0.2"
   ],
   "metadata": {
    "collapsed": false,
    "ExecuteTime": {
     "end_time": "2024-01-29T23:02:57.538810Z",
     "start_time": "2024-01-29T23:02:57.535508Z"
    }
   }
  },
  {
   "cell_type": "code",
   "execution_count": 52,
   "metadata": {
    "ExecuteTime": {
     "end_time": "2024-01-29T23:03:09.370208Z",
     "start_time": "2024-01-29T23:03:09.294729Z"
    }
   },
   "outputs": [
    {
     "data": {
      "text/plain": "<Figure size 416.667x416.667 with 1 Axes>",
      "image/png": "[encoded data removed]"
     },
     "metadata": {},
     "output_type": "display_data"
    }
   ],
   "source": [
    "## Select the country \n",
    "s_country = series.xs('France', level='Country')\n",
    "\n",
    "## The ax: we plot a single black line from 0 to 1 \n",
    "\n",
    "# Get the textwidth from latex with \\the\\textwidth (or \\showthe\\textwidth).\n",
    "fig, ax = plt.subplots(figsize=(300/72, 300/72))\n",
    "ax.spines['left'].set_visible(False)  # hide the left spine\n",
    "ax.spines['right'].set_visible(False)  # hide the right spine\n",
    "ax.spines['bottom'].set_visible(False)  # hide the top spine\n",
    "ax.spines['top'].set_visible(False)  # hide the top spine\n",
    "ax.yaxis.set_visible(False)  # hide the y-axis\n",
    "ax.xaxis.set_visible(False)  # hide the y-axis\n",
    "ax.plot([0, 1], [0, 0], color='black')\n",
    "\n",
    "## Select the palette \n",
    "\n",
    "# A color-blind friendly palette\n",
    "palette = ['#377eb8', '#ff7f00', '#4daf4a', '#f781bf', '#a65628', '#984ea3', '#999999', '#e41a1c', '#dede00']\n",
    "# Default palette\n",
    "# palette = cm.tab10(9)\n",
    "\n",
    "colors = {\n",
    "    k: v for k, v in zip(\n",
    "        s_country.index.get_level_values(\"Category\").unique(), \n",
    "        palette)}\n",
    "\n",
    "# Some keyword so that s in ax.text(x, y, s) is aligned around (x, y)\n",
    "text_align = {\n",
    "    \"horizontalalignment\": \"center\", \"verticalalignment\": \"center\"\n",
    "}\n",
    "\n",
    "# We start with a blank offset \n",
    "current_x = size_blank / 2 \n",
    "\n",
    "# For each sector... \n",
    "for ind_sector, sector in enumerate(s_country.index.get_level_values(\"Sector\").unique()):\n",
    "    # Restrict the dataframe \n",
    "    s_sector = s_country.xs(sector, level=\"Sector\")\n",
    "    # Print the name of the sector: \n",
    "    # Leave half a blank, then multiple sectors, then multiple full blanks \n",
    "    ax.text(size_blank * (ind_sector + 0.5) + size_sectors * (ind_sector + 0.5), y_label_sector, sector, **text_align)\n",
    "    \n",
    "    # For each category...\n",
    "    for category in s_sector.index.get_level_values(\"Category\").unique():\n",
    "        # This is the value we plot \n",
    "        current_y = s_sector.loc[category]\n",
    "        plt.bar(current_x, current_y, width=size_categories, color=colors[category], align=\"edge\")\n",
    "        \n",
    "        # This is the label \n",
    "        ax.text(current_x + size_categories / 2, y_label_categories, category, **text_align)\n",
    "        # This is the value, below the bar\n",
    "        ax.text(current_x + size_categories / 2, current_y - y_text_offset, f\"{current_y:.2f}\", rotation=45, **text_align)\n",
    "        # Next plot will be a bit further\n",
    "        current_x += size_categories\n",
    "    \n",
    "    # We skip a blank \n",
    "    current_x += size_blank\n",
    "\n",
    "fig.savefig(f\"output_france.pdf\", transparent=True, bbox_inches='tight', pad_inches=0)\n"
   ]
  },
  {
   "cell_type": "code",
   "execution_count": 54,
   "metadata": {
    "ExecuteTime": {
     "end_time": "2024-01-29T23:11:18.824139Z",
     "start_time": "2024-01-29T23:11:18.756575Z"
    }
   },
   "outputs": [
    {
     "data": {
      "text/plain": "<Figure size 416.667x416.667 with 1 Axes>",
      "image/png": "[encoded data removed]"
     },
     "metadata": {},
     "output_type": "display_data"
    }
   ],
   "source": [
    "## Select the country\n",
    "s_country = series.xs('USA', level='Country')\n",
    "\n",
    "## The ax: we plot a single black line from 0 to 1\n",
    "\n",
    "# Get the textwidth from latex with \\the\\textwidth (or \\showthe\\textwidth).\n",
    "fig, ax = plt.subplots(figsize=(300/72, 300/72))\n",
    "ax.spines['left'].set_visible(False)  # hide the left spine\n",
    "ax.spines['right'].set_visible(False)  # hide the right spine\n",
    "ax.spines['bottom'].set_visible(False)  # hide the top spine\n",
    "ax.spines['top'].set_visible(False)  # hide the top spine\n",
    "ax.yaxis.set_visible(False)  # hide the y-axis\n",
    "ax.xaxis.set_visible(False)  # hide the y-axis\n",
    "ax.plot([0, 1], [0, 0], color='black')\n",
    "\n",
    "## Select the palette\n",
    "\n",
    "# A color-blind friendly palette\n",
    "palette = ['#377eb8', '#ff7f00', '#4daf4a', '#f781bf', '#a65628', '#984ea3', '#999999', '#e41a1c', '#dede00']\n",
    "# Default palette\n",
    "# palette = cm.tab10(9)\n",
    "\n",
    "colors = {\n",
    "    k: v for k, v in zip(\n",
    "        s_country.index.get_level_values(\"Category\").unique(),\n",
    "        palette)}\n",
    "\n",
    "# Some keyword so that s in ax.text(x, y, s) is aligned around (x, y)\n",
    "text_align = {\n",
    "    \"horizontalalignment\": \"center\", \"verticalalignment\": \"center\"\n",
    "}\n",
    "\n",
    "# We start with a blank offset\n",
    "current_x = size_blank / 2\n",
    "\n",
    "# For each sector...\n",
    "for ind_sector, sector in enumerate(s_country.index.get_level_values(\"Sector\").unique()):\n",
    "    # Restrict the dataframe\n",
    "    s_sector = s_country.xs(sector, level=\"Sector\")\n",
    "    # Print the name of the sector:\n",
    "    # Leave half a blank, then multiple sectors, then multiple full blanks\n",
    "    ax.text(size_blank * (ind_sector + 0.5) + size_sectors * (ind_sector + 0.5), y_label_sector, sector, **text_align)\n",
    "\n",
    "    # For each category...\n",
    "    for category in s_sector.index.get_level_values(\"Category\").unique():\n",
    "        # This is the value we plot\n",
    "        current_y = s_sector.loc[category]\n",
    "        plt.bar(current_x, current_y, width=size_categories, color=colors[category], align=\"edge\")\n",
    "\n",
    "        # This is the label\n",
    "        ax.text(current_x + size_categories / 2, y_label_categories, category, **text_align)\n",
    "        # This is the value, below the bar\n",
    "        ax.text(current_x + size_categories / 2, current_y - y_text_offset, f\"{current_y:.2f}\", rotation=45, **text_align)\n",
    "        # Next plot will be a bit further\n",
    "        current_x += size_categories\n",
    "\n",
    "    # We skip a blank\n",
    "    current_x += size_blank\n",
    "\n",
    "fig.savefig(f\"output_us.pdf\", transparent=True, bbox_inches='tight', pad_inches=0)\n"
   ]
  },
  {
   "cell_type": "code",
   "execution_count": null,
   "outputs": [],
   "source": [],
   "metadata": {
    "collapsed": false
   }
  }
 ],
 "metadata": {
  "kernelspec": {
   "display_name": "celia",
   "language": "python",
   "name": "python3"
  },
  "language_info": {
   "codemirror_mode": {
    "name": "ipython",
    "version": 3
   },
   "file_extension": ".py",
   "mimetype": "text/x-python",
   "name": "python",
   "nbconvert_exporter": "python",
   "pygments_lexer": "ipython3",
   "version": "3.12.1"
  }
 },
 "nbformat": 4,
 "nbformat_minor": 2
}
