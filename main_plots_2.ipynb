{
 "cells": [
  {
   "cell_type": "code",
   "execution_count": 5,
   "metadata": {
    "ExecuteTime": {
     "end_time": "2024-07-12T08:59:24.673773Z",
     "start_time": "2024-07-12T08:59:24.647897Z"
    }
   },
   "outputs": [],
   "source": [
    "import matplotlib.pyplot as plt\n",
    "import numpy as np\n",
    "import pandas as pd\n",
    "from itertools import product\n",
    "from pathlib import Path \n",
    "import datetime\n",
    "from write_output import plot_domestic_emissions, domestic_emissions_barplot, absolute_emissions_barplot, save_fig, parse_outputs, post_processing_new_consumer, parse_emissions, emissions_breakdown_barplot, TRANSFORM_LEGEND\n",
    "import logging\n",
    "import seaborn as sns \n",
    "logging.getLogger('matplotlib').setLevel(logging.WARNING)\n",
    "sns.set_theme(context=\"talk\", style=\"white\")\n"
   ]
  },
  {
   "cell_type": "markdown",
   "source": [
    "# Final code"
   ],
   "metadata": {
    "collapsed": false
   }
  },
  {
   "cell_type": "markdown",
   "source": [
    "### Sufficiency: reference"
   ],
   "metadata": {
    "collapsed": false
   }
  },
  {
   "cell_type": "code",
   "outputs": [],
   "source": [
    "folder_simus = Path('outputs/simulations_20240513')\n",
    "folder_simus = Path('outputs/simulations_20240610')\n",
    "folder_simus = Path('outputs/simulations_20240705')\n"
   ],
   "metadata": {
    "collapsed": false,
    "ExecuteTime": {
     "end_time": "2024-07-12T08:49:37.175027Z",
     "start_time": "2024-07-12T08:49:37.130267Z"
    }
   },
   "execution_count": 31
  },
  {
   "cell_type": "code",
   "outputs": [],
   "source": [
    "d = parse_outputs(folder=folder_simus, list_sectors=['food', 'energy'], sensitivity='reference', file_selection='reference')\n",
    "\n",
    "emissions_df, emissions_absolute_df, emissions_detail_df = parse_emissions(d, index_names=['Sector'], folderpath=folder_simus)"
   ],
   "metadata": {
    "collapsed": false,
    "ExecuteTime": {
     "end_time": "2024-07-12T08:49:40.288794Z",
     "start_time": "2024-07-12T08:49:39.096211Z"
    }
   },
   "execution_count": 32
  },
  {
   "cell_type": "code",
   "outputs": [],
   "source": [
    "domestic_emissions_barplot(emissions_df.xs('EUR', level='Aggregation')*100, figsize=(11,7), save=folder_simus / Path('domestic_emissions'), rotation=45, fontsize_annotation=17, fontsize_small_xlabel=18, fontsize_big_xlabel=20, annot_offset_neg=-20, filesuffix='.png', dict_legend=TRANSFORM_LEGEND)"
   ],
   "metadata": {
    "collapsed": false,
    "ExecuteTime": {
     "end_time": "2024-07-11T15:51:29.228664Z",
     "start_time": "2024-07-11T15:51:29.135551Z"
    }
   },
   "execution_count": 15
  },
  {
   "cell_type": "code",
   "outputs": [],
   "source": [
    "absolute_emissions_barplot(emissions_absolute_df.xs('EUR', level='Aggregation').xs('energy', level='Sector')*1e-3, sector='energy',\n",
    "                           save=folder_simus / Path('absolute_emissions'), y_min=-90, y_max=50, fontsize_annotation=17, fontsize_small_xlabel=18, fontsize_big_xlabel=20, annot_offset_neg=-20, label_y_offset=10, dict_legend=TRANSFORM_LEGEND, filesuffix='.png')"
   ],
   "metadata": {
    "collapsed": false,
    "ExecuteTime": {
     "end_time": "2024-07-11T15:47:39.897545Z",
     "start_time": "2024-07-11T15:47:39.805233Z"
    }
   },
   "execution_count": 12
  },
  {
   "cell_type": "code",
   "outputs": [],
   "source": [
    "absolute_emissions_barplot(emissions_absolute_df.xs('EUR', level='Aggregation').xs('food', level='Sector')*1e-3, sector='food',\n",
    "                           save=folder_simus / Path('absolute_emissions'), y_min=-90, y_max=50, fontsize_annotation=17, fontsize_small_xlabel=18, fontsize_big_xlabel=20, annot_offset_neg=-20, label_y_offset=10, dict_legend=TRANSFORM_LEGEND, filesuffix='.png')"
   ],
   "metadata": {
    "collapsed": false,
    "ExecuteTime": {
     "end_time": "2024-07-11T15:47:40.103803Z",
     "start_time": "2024-07-11T15:47:39.979616Z"
    }
   },
   "execution_count": 13
  },
  {
   "cell_type": "code",
   "outputs": [],
   "source": [
    "# Breakdown of emissions reduction across sectors and types\n",
    "emissions_breakdown_barplot(df=emissions_detail_df.xs('EUR_ref', level='Country', axis=1)*100, groupby='Sector', figsize=(11,7), save=folder_simus / Path('emissions_breakdown_ref'), filesuffix='.png', dict_legend=TRANSFORM_LEGEND, fontsize_big_xlabel=20, fontsize_small_xlabel=19, fontsize_legend_labels=17, ymin_lim=-2.2, ymax_lim=0.8)"
   ],
   "metadata": {
    "collapsed": false,
    "ExecuteTime": {
     "end_time": "2024-07-06T15:05:19.609743Z",
     "start_time": "2024-07-06T15:05:19.347189Z"
    }
   },
   "execution_count": 5
  },
  {
   "cell_type": "code",
   "outputs": [],
   "source": [
    "# Breakdown of emissions reduction across sectors and types\n",
    "emissions_breakdown_barplot(df=emissions_detail_df.xs('EUR_single', level='Country', axis=1)*100, groupby='Sector', figsize=(11,7), save=folder_simus / Path('emissions_breakdown_demand'), filesuffix='.png', dict_legend=TRANSFORM_LEGEND, fontsize_big_xlabel=20, fontsize_small_xlabel=19, fontsize_legend_labels=17, ymin_lim=-2.2, ymax_lim=0.8)"
   ],
   "metadata": {
    "collapsed": false,
    "ExecuteTime": {
     "end_time": "2024-07-11T12:50:23.165859Z",
     "start_time": "2024-07-11T12:50:22.867116Z"
    }
   },
   "execution_count": 8
  },
  {
   "cell_type": "code",
   "outputs": [],
   "source": [
    "# Difference in behavior from introducing price effect\n",
    "df_diff = emissions_detail_df.xs('energy', level=\"Sector\", axis=1)[['EUR_IO', 'EUR_CD']].diff(axis=1).drop('EUR_IO', axis=1)\n",
    "emissions_breakdown_barplot(df=df_diff*100, groupby='Sector', figsize=(11,7), format_y=lambda y, _: '{:.2f} %'.format(y), save=folder_simus / Path('emissions_breakdown_energy_diff_IO_CD'), filesuffix='.png', dict_legend=TRANSFORM_LEGEND, fontsize_big_xlabel=20, fontsize_small_xlabel=19, fontsize_legend_labels=17, nb_sectors=15, display_title=False)"
   ],
   "metadata": {
    "collapsed": false,
    "ExecuteTime": {
     "end_time": "2024-07-06T15:05:19.816626Z",
     "start_time": "2024-07-06T15:05:19.688367Z"
    }
   },
   "execution_count": 6
  },
  {
   "cell_type": "code",
   "outputs": [],
   "source": [
    "# Difference in behavior from introducing price effect\n",
    "df_diff = emissions_detail_df.xs('energy', level=\"Sector\", axis=1)[['EUR_IO', 'EUR_single']].diff(axis=1).drop('EUR_IO', axis=1)\n",
    "emissions_breakdown_barplot(df=df_diff*100, groupby='Sector', figsize=(11,7), format_y=lambda y, _: '{:.2f} %'.format(y), save=folder_simus / Path('emissions_breakdown_energy_diff_IO_demand'), filesuffix='.png', dict_legend=TRANSFORM_LEGEND, fontsize_big_xlabel=20, fontsize_small_xlabel=19, fontsize_legend_labels=17, nb_sectors=15, display_title=False)"
   ],
   "metadata": {
    "collapsed": false,
    "ExecuteTime": {
     "end_time": "2024-07-12T08:49:45.857871Z",
     "start_time": "2024-07-12T08:49:45.741772Z"
    }
   },
   "execution_count": 33
  },
  {
   "cell_type": "code",
   "outputs": [],
   "source": [
    "# Difference in behavior from introducing price effect\n",
    "df_diff = emissions_detail_df.xs('energy', level=\"Sector\", axis=1)[['EUR_CD', 'EUR_ref']].diff(axis=1).drop('EUR_CD', axis=1)\n",
    "emissions_breakdown_barplot(df=df_diff*100, groupby='Sector', figsize=(11,7), format_y=lambda y, _: '{:.2f} %'.format(y), save=folder_simus / Path('emissions_breakdown_energy_diff_CD_CES'), filesuffix='.png', dict_legend=TRANSFORM_LEGEND, fontsize_big_xlabel=20, fontsize_small_xlabel=19, fontsize_legend_labels=17, nb_sectors=15, display_title=False)"
   ],
   "metadata": {
    "collapsed": false,
    "ExecuteTime": {
     "end_time": "2024-07-06T17:19:26.079752Z",
     "start_time": "2024-07-06T17:19:25.940823Z"
    }
   },
   "execution_count": 14
  },
  {
   "cell_type": "code",
   "outputs": [],
   "source": [
    "# Breakdown of emissions reduction across sectors and types\n",
    "emissions_breakdown_barplot(df=emissions_detail_df.xs('EUR_CD', level='Country', axis=1)*100, groupby='Sector', figsize=(11,7), save=folder_simus / Path('emissions_breakdown_CD'), filesuffix='.png', dict_legend=TRANSFORM_LEGEND, fontsize_big_xlabel=20, fontsize_small_xlabel=19, fontsize_legend_labels=17, ymin_lim=-2.2, ymax_lim=0.8)"
   ],
   "metadata": {
    "collapsed": false,
    "ExecuteTime": {
     "end_time": "2024-07-06T15:05:20.735201Z",
     "start_time": "2024-07-06T15:05:20.429568Z"
    }
   },
   "execution_count": 7
  },
  {
   "cell_type": "code",
   "outputs": [],
   "source": [
    "# Breakdown of emissions reduction across sectors and types\n",
    "emissions_breakdown_barplot(df=emissions_detail_df.xs('ROW_ref', level='Country', axis=1)*100, groupby='Sector', figsize=(11,7), save=folder_simus / Path('emissions_breakdown_ref_ROW'), filesuffix='.png', dict_legend=TRANSFORM_LEGEND, fontsize_big_xlabel=20, fontsize_small_xlabel=19, fontsize_legend_labels=17, format_y=lambda y, _: '{:.2f} %'.format(y))"
   ],
   "metadata": {
    "collapsed": false,
    "ExecuteTime": {
     "end_time": "2024-07-06T15:05:21.104103Z",
     "start_time": "2024-07-06T15:05:20.830750Z"
    }
   },
   "execution_count": 8
  },
  {
   "cell_type": "code",
   "outputs": [],
   "source": [
    "# Breakdown of emissions reduction across sectors and types\n",
    "emissions_breakdown_barplot(df=emissions_detail_df.xs('EUR_IO', level='Country', axis=1)*100, groupby='Sector', figsize=(11,7), save=folder_simus / Path('emissions_breakdown_IO'), filesuffix='.png', dict_legend=TRANSFORM_LEGEND, fontsize_big_xlabel=20, fontsize_small_xlabel=19, fontsize_legend_labels=17, nb_sectors=10)"
   ],
   "metadata": {
    "collapsed": false,
    "ExecuteTime": {
     "end_time": "2024-07-06T15:05:21.632521Z",
     "start_time": "2024-07-06T15:05:21.383210Z"
    }
   },
   "execution_count": 9
  },
  {
   "cell_type": "code",
   "outputs": [],
   "source": [
    "# Breakdown of emissions reduction across sectors and types\n",
    "emissions_breakdown_barplot(df=emissions_detail_df.xs('ROW_IO', level='Country', axis=1)*100, groupby='Sector', format_y=lambda y, _: '{:.2f} %'.format(y), figsize=(11,7), save=folder_simus / Path('emissions_breakdown_IO_ROW'), filesuffix='.png', dict_legend=TRANSFORM_LEGEND, fontsize_big_xlabel=20, fontsize_small_xlabel=19, fontsize_legend_labels=17, ymax_lim=0.04)"
   ],
   "metadata": {
    "collapsed": false,
    "ExecuteTime": {
     "end_time": "2024-07-06T15:05:23.635490Z",
     "start_time": "2024-07-06T15:05:23.377212Z"
    }
   },
   "execution_count": 10
  },
  {
   "cell_type": "code",
   "outputs": [],
   "source": [
    "d = parse_outputs(folder=folder_simus, list_sectors=['food', 'energy'], sensitivity='kappa')\n",
    "\n",
    "emissions_df, emissions_absolute_df, emissions_detail_df = parse_emissions(d, index_names=['Sector', 'Elasticity'], folderpath=folder_simus)\n",
    "emissions_df = emissions_df.reindex(['food', 'energy'], level='Sector').reindex(['Low', 'Ref', 'High'], level='Elasticity')\n",
    "\n",
    "domestic_emissions_barplot(emissions_df.xs('EUR', level='Aggregation').xs('D+CD+CES', level='Effect')*100, first_level_index='Sector', second_level_index='Elasticity', figsize=(10,7), save=folder_simus / Path('domestic_emissions_sensitivity_kappa'), rotation=45,\n",
    "                           fontsize_annotation=18, fontsize_small_xlabel=15, fontsize_big_xlabel=18, annot_offset_neg=-20, dict_legend=TRANSFORM_LEGEND, filesuffix='.png')"
   ],
   "metadata": {
    "collapsed": false,
    "ExecuteTime": {
     "end_time": "2024-07-05T08:56:08.294092Z",
     "start_time": "2024-07-05T08:56:05.028760Z"
    }
   },
   "execution_count": 24
  },
  {
   "cell_type": "code",
   "outputs": [],
   "source": [
    "d = parse_outputs(folder=folder_simus, list_sectors=['food', 'energy'], sensitivity='rho', configref={'kappa': 0.5, 'nu': 0.001})\n",
    "\n",
    "emissions_df, emissions_absolute_df, emissions_detail_df = parse_emissions(d, index_names=['Sector', 'Elasticity'], folderpath=folder_simus)\n",
    "emissions_df = emissions_df.reindex(['food', 'energy'], level='Sector').reindex(['Very Low', 'Low', 'Ref'], level='Elasticity')\n",
    "\n",
    "domestic_emissions_barplot(emissions_df.xs('EUR', level='Aggregation').xs('D+CD+CES', level='Effect')*100, first_level_index='Sector', second_level_index='Elasticity', figsize=(10,7), save=folder_simus / Path('domestic_emissions_sensitivity_rho'), rotation=45,\n",
    "                           fontsize_annotation=18, fontsize_small_xlabel=15, fontsize_big_xlabel=18, annot_offset_neg=-20, dict_legend=TRANSFORM_LEGEND, filesuffix='.png')"
   ],
   "metadata": {
    "collapsed": false,
    "ExecuteTime": {
     "end_time": "2024-07-05T08:56:10.922651Z",
     "start_time": "2024-07-05T08:56:08.295374Z"
    }
   },
   "execution_count": 25
  },
  {
   "cell_type": "code",
   "outputs": [],
   "source": [
    "d = parse_outputs(folder=folder_simus, list_sectors=['food', 'energy'], sensitivity='nu', configref={'kappa': 0.5, 'rho': 0.9})\n",
    "\n",
    "emissions_df, emissions_absolute_df, emissions_detail_df = parse_emissions(d, index_names=['Sector', 'Elasticity'], folderpath=folder_simus)\n",
    "emissions_df = emissions_df.reindex(['food', 'energy'], level='Sector').reindex(['Ref', 'High', 'Very High'], level='Elasticity')\n",
    "\n",
    "domestic_emissions_barplot(emissions_df.xs('EUR', level='Aggregation').xs('D+CD+CES', level='Effect')*100, first_level_index='Sector', second_level_index='Elasticity', figsize=(10,7), save=folder_simus / Path('domestic_emissions_sensitivity_nu'), rotation=45,\n",
    "                           fontsize_annotation=18, fontsize_small_xlabel=15, fontsize_big_xlabel=18, annot_offset_neg=-20, dict_legend=TRANSFORM_LEGEND, filesuffix='.png')"
   ],
   "metadata": {
    "collapsed": false,
    "ExecuteTime": {
     "end_time": "2024-07-05T08:56:13.510308Z",
     "start_time": "2024-07-05T08:56:10.923532Z"
    }
   },
   "execution_count": 26
  },
  {
   "cell_type": "markdown",
   "source": [
    "### Efficiency"
   ],
   "metadata": {
    "collapsed": false
   }
  },
  {
   "cell_type": "code",
   "outputs": [],
   "source": [
    "folder_simus = Path('outputs/simulations_20240501')\n",
    "folder_simus = Path('outputs/simulations_20240517')\n",
    "folder_simus = Path('outputs/simulations_20240705')\n",
    "d = parse_outputs(folder=folder_simus, list_sectors=['efficiency'], sensitivity='reference')\n",
    "\n",
    "emissions_df, emissions_absolute_df, emissions_detail_df = parse_emissions(d, index_names=['Sector'], folderpath=folder_simus)"
   ],
   "metadata": {
    "collapsed": false,
    "ExecuteTime": {
     "end_time": "2024-07-05T17:36:03.228173Z",
     "start_time": "2024-07-05T17:36:02.677805Z"
    }
   },
   "execution_count": 21
  },
  {
   "cell_type": "code",
   "outputs": [],
   "source": [
    "domestic_emissions_barplot(emissions_df.xs('EUR', level='Aggregation')*100, figsize=(11,7), save=folder_simus / Path('domestic_emissions_efficiency'), rotation=45, fontsize_annotation=17, fontsize_small_xlabel=18, fontsize_big_xlabel=20, annot_offset_neg=-20, filesuffix='.png', dict_legend=TRANSFORM_LEGEND)"
   ],
   "metadata": {
    "collapsed": false,
    "ExecuteTime": {
     "end_time": "2024-07-05T17:36:04.420606Z",
     "start_time": "2024-07-05T17:36:04.356786Z"
    }
   },
   "execution_count": 22
  },
  {
   "cell_type": "code",
   "outputs": [],
   "source": [
    "# Breakdown of emissions reduction across sectors and types\n",
    "emissions_breakdown_barplot(df=emissions_detail_df.xs('EUR_ref', level='Country', axis=1)*100, groupby='Sector', figsize=(11,7), save=folder_simus / Path('emissions_breakdown_ref_efficiency'), filesuffix='.png',\n",
    "                            dict_legend=TRANSFORM_LEGEND, fontsize_big_xlabel=25, fontsize_small_xlabel=22, fontsize_legend_labels=25)"
   ],
   "metadata": {
    "collapsed": false,
    "ExecuteTime": {
     "end_time": "2024-07-05T17:36:07.754484Z",
     "start_time": "2024-07-05T17:36:07.624591Z"
    }
   },
   "execution_count": 23
  },
  {
   "cell_type": "code",
   "outputs": [],
   "source": [
    "absolute_emissions_barplot(emissions_absolute_df.xs('EUR', level='Aggregation').xs('efficiency', level='Sector')*1e-3, sector='efficiency',\n",
    "                           save=folder_simus / Path('absolute_emissions'), y_min=-150, y_max=60, fontsize_annotation=17, fontsize_small_xlabel=18, fontsize_big_xlabel=20, annot_offset_neg=-20, label_y_offset=10, dict_legend=TRANSFORM_LEGEND, filesuffix='.png')"
   ],
   "metadata": {
    "collapsed": false,
    "ExecuteTime": {
     "end_time": "2024-05-20T09:53:21.623589Z",
     "start_time": "2024-05-20T09:53:21.545797Z"
    }
   },
   "execution_count": 5
  },
  {
   "cell_type": "code",
   "outputs": [],
   "source": [
    "d = parse_outputs(folder=folder_simus, list_sectors=['efficiency'], post_processing='sensitivity_energyservices')\n",
    "\n",
    "emissions_df, emissions_absolute_df, emissions_detail_df = parse_emissions(d, index_names=['Sector', 'Elasticity'], folderpath=folder_simus)\n",
    "emissions_df = emissions_df.reindex(['efficiency'], level='Sector').reindex(['Low', 'Ref', 'High'], level='Elasticity')\n",
    "\n",
    "domestic_emissions_barplot(emissions_df.xs('EUR', level='Aggregation').xs('D+CD+CES', level='Effect')*100, first_level_index='Sector', second_level_index='Elasticity', figsize=(10,7), save=folder_simus / Path('domestic_emissions_sensitivity_kappa_efficiency'), rotation=45,\n",
    "                           fontsize_annotation=15, fontsize_small_xlabel=15, fontsize_big_xlabel=18, annot_offset_neg=-20, filesuffix='.png')"
   ],
   "metadata": {
    "collapsed": false,
    "ExecuteTime": {
     "start_time": "2024-05-10T13:27:29.490755Z"
    }
   },
   "execution_count": null
  },
  {
   "cell_type": "code",
   "outputs": [],
   "source": [
    "d = parse_outputs(folder=folder_simus, list_sectors=['efficiency'], post_processing='sensitivity_durable', configref={'kappa': 0.5, 'nu': 0.001})\n",
    "\n",
    "emissions_df, emissions_absolute_df, emissions_detail_df = parse_emissions(d, index_names=['Sector', 'Elasticity'], folderpath=folder_simus)\n",
    "emissions_df = emissions_df.reindex(['efficiency'], level='Sector').reindex(['Very Low', 'Low', 'Ref'], level='Elasticity')\n",
    "\n",
    "domestic_emissions_barplot(emissions_df.xs('EUR', level='Aggregation').xs('D+CD+CES', level='Effect')*100, first_level_index='Sector', second_level_index='Elasticity', figsize=(10,7), save=folder_simus / Path('domestic_emissions_sensitivity_rho_efficiency'), rotation=45,\n",
    "                           fontsize_annotation=15, fontsize_small_xlabel=15, fontsize_big_xlabel=18, annot_offset_neg=-20, filesuffix='.png')"
   ],
   "metadata": {
    "collapsed": false,
    "ExecuteTime": {
     "start_time": "2024-05-10T13:27:29.492228Z"
    }
   },
   "execution_count": null
  },
  {
   "cell_type": "code",
   "outputs": [],
   "source": [
    "d = parse_outputs(folder=folder_simus, list_sectors=['efficiency'], post_processing='sensitivity_production', configref={'kappa': 0.5, 'rho': 0.9})\n",
    "\n",
    "emissions_df, emissions_absolute_df, emissions_detail_df = parse_emissions(d, index_names=['Sector', 'Elasticity'], folderpath=folder_simus)\n",
    "emissions_df = emissions_df.reindex(['efficiency'], level='Sector').reindex(['Ref', 'High', 'Very High'], level='Elasticity')\n",
    "\n",
    "domestic_emissions_barplot(emissions_df.xs('EUR', level='Aggregation').xs('D+CD+CES', level='Effect')*100, first_level_index='Sector', second_level_index='Elasticity', figsize=(10,7), save=folder_simus / Path('domestic_emissions_sensitivity_nu_efficiency'), rotation=45,\n",
    "                           fontsize_annotation=15, fontsize_small_xlabel=15, fontsize_big_xlabel=18, annot_offset_neg=-20, filesuffix='.png')"
   ],
   "metadata": {
    "collapsed": false,
    "ExecuteTime": {
     "start_time": "2024-05-10T13:27:29.493931Z"
    }
   },
   "execution_count": null
  },
  {
   "cell_type": "markdown",
   "source": [
    "### Uniform shock"
   ],
   "metadata": {
    "collapsed": false
   }
  },
  {
   "cell_type": "code",
   "outputs": [],
   "source": [
    "folder_simus = Path('outputs/simulations_20240502')  # uniform shock\n"
   ],
   "metadata": {
    "collapsed": false,
    "ExecuteTime": {
     "start_time": "2024-05-10T13:27:29.495373Z"
    }
   },
   "execution_count": null
  },
  {
   "cell_type": "code",
   "outputs": [],
   "source": [
    "d = parse_outputs(folder=folder_simus, list_sectors=['food', 'energy'], sensitivity='reference', file_selection='uniform')\n",
    "\n",
    "emissions_df, emissions_absolute_df, emissions_detail_df = parse_emissions(d, index_names=['Sector'], folderpath=folder_simus)"
   ],
   "metadata": {
    "collapsed": false,
    "ExecuteTime": {
     "start_time": "2024-05-10T13:27:29.496605Z"
    }
   },
   "execution_count": null
  },
  {
   "cell_type": "code",
   "outputs": [],
   "source": [
    "domestic_emissions_barplot(emissions_df.xs('EUR', level='Aggregation')*100, figsize=(11,7), save=folder_simus / Path('domestic_emissions'), rotation=45, fontsize_annotation=17, fontsize_small_xlabel=18, fontsize_big_xlabel=20, annot_offset_neg=-20, filesuffix='.png', dict_legend=TRANSFORM_LEGEND)"
   ],
   "metadata": {
    "collapsed": false,
    "ExecuteTime": {
     "start_time": "2024-05-10T13:27:29.497820Z"
    }
   },
   "execution_count": null
  },
  {
   "cell_type": "code",
   "outputs": [],
   "source": [
    "absolute_emissions_barplot(emissions_absolute_df.xs('EUR', level='Aggregation').xs('energy', level='Sector')*1e-3, sector='energy',\n",
    "                           save=folder_simus / Path('absolute_emissions'), y_min=-1000, y_max=60, fontsize_annotation=15, fontsize_small_xlabel=15, fontsize_big_xlabel=18, annot_offset_neg=-20, label_y_offset=60, filesuffix='.png')"
   ],
   "metadata": {
    "collapsed": false,
    "ExecuteTime": {
     "start_time": "2024-05-10T13:27:29.499035Z"
    }
   },
   "execution_count": null
  },
  {
   "cell_type": "code",
   "outputs": [],
   "source": [
    "absolute_emissions_barplot(emissions_absolute_df.xs('EUR', level='Aggregation').xs('food', level='Sector')*1e-3, sector='food',\n",
    "                           save=folder_simus / Path('absolute_emissions'), y_min=-1500, y_max=200, fontsize_annotation=15, fontsize_small_xlabel=15, fontsize_big_xlabel=18, annot_offset_neg=-20, label_y_offset=70, filesuffix='.png')"
   ],
   "metadata": {
    "collapsed": false,
    "ExecuteTime": {
     "start_time": "2024-05-10T13:27:29.500411Z"
    }
   },
   "execution_count": null
  },
  {
   "cell_type": "code",
   "outputs": [],
   "source": [
    "# Breakdown of emissions reduction across sectors and types\n",
    "\n",
    "emissions_breakdown_barplot(df=emissions_detail_df.xs('EUR_ref', level='Country', axis=1)*100, groupby='Sector', figsize=(11,7), save=folder_simus / Path('emissions_breakdown_ref'), filesuffix='.png')"
   ],
   "metadata": {
    "collapsed": false,
    "ExecuteTime": {
     "start_time": "2024-05-10T13:27:29.501921Z"
    }
   },
   "execution_count": null
  },
  {
   "cell_type": "code",
   "outputs": [],
   "source": [
    "d = parse_outputs(folder=folder_simus, list_sectors=['food', 'energy'], post_processing='sensitivity_energyservices')\n",
    "\n",
    "emissions_df, emissions_absolute_df, emissions_detail_df = parse_emissions(d, index_names=['Sector', 'Elasticity'], folderpath=folder_simus)\n",
    "emissions_df = emissions_df.reindex(['food', 'energy'], level='Sector').reindex(['Low', 'Ref', 'High'], level='Elasticity')\n",
    "\n",
    "domestic_emissions_barplot(emissions_df.xs('EUR', level='Aggregation').xs('D+CD+CES', level='Effect')*100, first_level_index='Sector', second_level_index='Elasticity', figsize=(10,7), save=folder_simus / Path('domestic_emissions_sensitivity_kappa'), rotation=45,\n",
    "                           fontsize_annotation=15, fontsize_small_xlabel=15, fontsize_big_xlabel=18, annot_offset_neg=-20, filesuffix='.png')"
   ],
   "metadata": {
    "collapsed": false,
    "ExecuteTime": {
     "start_time": "2024-05-10T13:27:29.503306Z"
    }
   },
   "execution_count": null
  },
  {
   "cell_type": "code",
   "outputs": [],
   "source": [
    "d = parse_outputs(folder=folder_simus, list_sectors=['food', 'energy'], post_processing='sensitivity_durable', configref={'kappa': 0.5, 'nu': 0.001})\n",
    "\n",
    "emissions_df, emissions_absolute_df, emissions_detail_df = parse_emissions(d, index_names=['Sector', 'Elasticity'], folderpath=folder_simus)\n",
    "emissions_df = emissions_df.reindex(['food', 'energy'], level='Sector').reindex(['Very Low', 'Low', 'Ref'], level='Elasticity')\n",
    "\n",
    "domestic_emissions_barplot(emissions_df.xs('EUR', level='Aggregation').xs('D+CD+CES', level='Effect')*100, first_level_index='Sector', second_level_index='Elasticity', figsize=(10,7), save=folder_simus / Path('domestic_emissions_sensitivity_rho'), rotation=45,\n",
    "                           fontsize_annotation=15, fontsize_small_xlabel=15, fontsize_big_xlabel=18, annot_offset_neg=-20, filesuffix='.png')"
   ],
   "metadata": {
    "collapsed": false,
    "ExecuteTime": {
     "start_time": "2024-05-10T13:27:29.504711Z"
    }
   },
   "execution_count": null
  },
  {
   "cell_type": "code",
   "outputs": [],
   "source": [
    "d = parse_outputs(folder=folder_simus, list_sectors=['food', 'energy'], post_processing='sensitivity_production', configref={'kappa': 0.5, 'rho': 0.9})\n",
    "\n",
    "emissions_df, emissions_absolute_df, emissions_detail_df = parse_emissions(d, index_names=['Sector', 'Elasticity'], folderpath=folder_simus)\n",
    "emissions_df = emissions_df.reindex(['food', 'energy'], level='Sector').reindex(['Ref', 'High', 'Very High'], level='Elasticity')\n",
    "\n",
    "domestic_emissions_barplot(emissions_df.xs('EUR', level='Aggregation').xs('D+CD+CES', level='Effect')*100, first_level_index='Sector', second_level_index='Elasticity', figsize=(10,7), save=folder_simus / Path('domestic_emissions_sensitivity_nu'), rotation=45,\n",
    "                           fontsize_annotation=15, fontsize_small_xlabel=15, fontsize_big_xlabel=18, annot_offset_neg=-20, filesuffix='.png')"
   ],
   "metadata": {
    "collapsed": false,
    "ExecuteTime": {
     "start_time": "2024-05-10T13:27:29.505909Z"
    }
   },
   "execution_count": null
  },
  {
   "cell_type": "markdown",
   "source": [
    "### Heterogeneity"
   ],
   "metadata": {
    "collapsed": false
   }
  },
  {
   "cell_type": "code",
   "outputs": [],
   "source": [
    "folder_simus = Path('outputs/simulations_20240503')\n",
    "\n",
    "d = parse_outputs(folder=folder_simus, list_sectors=['food', 'energy'], post_processing='reference', file_selection='heterogeneous')\n",
    "# d_postprocess = post_processing_new_consumer(d)\n",
    "emissions_df, emissions_absolute_df, emissions_detail_df = parse_emissions(d, index_names=['Sector', 'Share', 'Elasticity'], folderpath=folder_simus)"
   ],
   "metadata": {
    "collapsed": false,
    "ExecuteTime": {
     "start_time": "2024-05-10T13:27:29.507020Z"
    }
   },
   "execution_count": null
  },
  {
   "cell_type": "code",
   "outputs": [],
   "source": [
    "emissions_df.shape "
   ],
   "metadata": {
    "collapsed": false,
    "ExecuteTime": {
     "start_time": "2024-05-10T13:27:29.508438Z"
    }
   },
   "execution_count": null
  },
  {
   "cell_type": "code",
   "outputs": [],
   "source": [
    "tmp = emissions_df.xs('EUR', level='Aggregation').xs('D+CD+CES', level='Effect').xs('food', level='Sector')*100\n",
    "tmp.index = tmp.index.set_levels([level.astype(float) for level in tmp.index.levels])\n",
    "tmp = tmp.unstack()\n",
    "tmp = tmp.sort_index().sort_index(axis=1)\n",
    "tmp "
   ],
   "metadata": {
    "collapsed": false,
    "ExecuteTime": {
     "start_time": "2024-05-10T13:27:29.509856Z"
    }
   },
   "execution_count": null
  },
  {
   "cell_type": "code",
   "outputs": [],
   "source": [
    "fig, axes = plt.subplots(1, 1, figsize=(12,9))\n",
    "sns.heatmap(tmp.loc[tmp.index < 0.5], annot=True, cmap='coolwarm')  # 'annot=True' to annotate cells with numeric data\n",
    "plt.title('Heatmap domestic emissions')\n",
    "fig.savefig('outputs/simulations_20240503/domestic_emissions_heatmap.png')\n",
    "plt.show()"
   ],
   "metadata": {
    "collapsed": false,
    "ExecuteTime": {
     "start_time": "2024-05-10T13:27:29.510960Z"
    }
   },
   "execution_count": null
  },
  {
   "cell_type": "code",
   "outputs": [],
   "source": [
    "sns.heatmap(tmp, annot=False, cmap='coolwarm')  # 'annot=True' to annotate cells with numeric data\n",
    "plt.title('Heatmap of MultiIndexed Data')\n",
    "plt.show()"
   ],
   "metadata": {
    "collapsed": false,
    "ExecuteTime": {
     "start_time": "2024-05-10T13:27:29.512152Z"
    }
   },
   "execution_count": null
  },
  {
   "cell_type": "markdown",
   "source": [
    "### Labor"
   ],
   "metadata": {
    "collapsed": false
   }
  },
  {
   "cell_type": "code",
   "outputs": [],
   "source": [
    "folder_simus = Path('outputs/simulations_20240517')\n",
    "folder_simus = Path('outputs/simulations_20240705')\n",
    "d = parse_outputs(folder=folder_simus, list_sectors=['labor'], sensitivity='reference')\n",
    "\n",
    "emissions_df, emissions_absolute_df, emissions_detail_df = parse_emissions(d, index_names=['Sector'], folderpath=folder_simus)\n",
    "emissions_df = emissions_df.rename(index={'IO': 'IO', 'CD': 'Cobb-Douglas', 'CD+CES': 'CES'}, level='Effect')\n",
    "emissions_absolute_df = emissions_absolute_df.rename(index={'IO': 'IO', 'CD': 'Cobb-Douglas', 'CD+CES': 'CES'}, level='Effect')"
   ],
   "metadata": {
    "collapsed": false,
    "ExecuteTime": {
     "end_time": "2024-07-07T08:56:48.142269Z",
     "start_time": "2024-07-07T08:56:47.687252Z"
    }
   },
   "execution_count": 25
  },
  {
   "cell_type": "code",
   "outputs": [],
   "source": [
    "domestic_emissions_barplot(emissions_df.xs('EUR', level='Aggregation')*100, figsize=(11,7), save=folder_simus / Path('domestic_emissions_labor'), rotation=45, fontsize_annotation=17, fontsize_small_xlabel=18, fontsize_big_xlabel=20, annot_offset_neg=-20, filesuffix='.png', dict_legend=TRANSFORM_LEGEND)"
   ],
   "metadata": {
    "collapsed": false,
    "ExecuteTime": {
     "end_time": "2024-07-07T08:56:02.501151Z",
     "start_time": "2024-07-07T08:56:02.444837Z"
    }
   },
   "execution_count": 22
  },
  {
   "cell_type": "code",
   "outputs": [],
   "source": [
    "absolute_emissions_barplot(emissions_absolute_df.xs('EUR', level='Aggregation').xs('labor', level='Sector')*1e-3, sector='labor',\n",
    "                           save=folder_simus / Path('absolute_emissions'), y_min=-90, y_max=50, fontsize_annotation=17, fontsize_small_xlabel=18, fontsize_big_xlabel=20, annot_offset_neg=-20, label_y_offset=10, dict_legend=TRANSFORM_LEGEND, filesuffix='.png')"
   ],
   "metadata": {
    "collapsed": false,
    "ExecuteTime": {
     "end_time": "2024-07-07T08:56:51.742153Z",
     "start_time": "2024-07-07T08:56:51.669299Z"
    }
   },
   "execution_count": 26
  },
  {
   "cell_type": "markdown",
   "source": [
    "#### Uniform"
   ],
   "metadata": {
    "collapsed": false
   }
  },
  {
   "cell_type": "code",
   "outputs": [],
   "source": [
    "folder_simus = Path('outputs/simulations_20240517')\n",
    "d = parse_outputs(folder=folder_simus, list_sectors=['labor'], sensitivity='reference', file_selection='uniform')\n",
    "\n",
    "emissions_df, emissions_absolute_df, emissions_detail_df = parse_emissions(d, index_names=['Sector'], folderpath=folder_simus)"
   ],
   "metadata": {
    "collapsed": false,
    "ExecuteTime": {
     "end_time": "2024-05-17T08:17:54.852274Z",
     "start_time": "2024-05-17T08:17:54.422957Z"
    }
   },
   "execution_count": 11
  },
  {
   "cell_type": "code",
   "outputs": [],
   "source": [
    "domestic_emissions_barplot(emissions_df.xs('EUR', level='Aggregation')*100, figsize=(11,7), save=folder_simus / Path('domestic_emissions_labor_uniform'), rotation=45, fontsize_annotation=17, fontsize_small_xlabel=18, fontsize_big_xlabel=20, annot_offset_neg=-20, filesuffix='.png', dict_legend=TRANSFORM_LEGEND)"
   ],
   "metadata": {
    "collapsed": false,
    "ExecuteTime": {
     "end_time": "2024-05-17T08:17:54.904022Z",
     "start_time": "2024-05-17T08:17:54.853392Z"
    }
   },
   "execution_count": 12
  },
  {
   "cell_type": "code",
   "outputs": [],
   "source": [
    "absolute_emissions_barplot(emissions_absolute_df.xs('EUR', level='Aggregation').xs('labor', level='Sector')*1e-3, sector='labor',\n",
    "                           save=folder_simus / Path('absolute_emissions_uniform'), y_min=-1200, y_max=60, fontsize_annotation=17, fontsize_small_xlabel=18, fontsize_big_xlabel=20, annot_offset_neg=-20, label_y_offset=60, dict_legend=TRANSFORM_LEGEND, filesuffix='.png')"
   ],
   "metadata": {
    "collapsed": false,
    "ExecuteTime": {
     "end_time": "2024-05-17T08:19:01.441387Z",
     "start_time": "2024-05-17T08:19:01.316533Z"
    }
   },
   "execution_count": 20
  },
  {
   "cell_type": "markdown",
   "source": [
    "### Energy services"
   ],
   "metadata": {
    "collapsed": false
   }
  },
  {
   "cell_type": "code",
   "outputs": [],
   "source": [
    "folder_simus = Path('outputs/simulations_20240712')\n"
   ],
   "metadata": {
    "collapsed": false,
    "ExecuteTime": {
     "end_time": "2024-07-12T08:59:27.259330Z",
     "start_time": "2024-07-12T08:59:27.209763Z"
    }
   },
   "execution_count": 6
  },
  {
   "cell_type": "code",
   "outputs": [],
   "source": [
    "d = parse_outputs(folder=folder_simus, list_sectors=['energyservices'], sensitivity='reference', file_selection='reference')\n",
    "\n",
    "emissions_df, emissions_absolute_df, emissions_detail_df = parse_emissions(d, index_names=['Sector'], folderpath=folder_simus)"
   ],
   "metadata": {
    "collapsed": false,
    "ExecuteTime": {
     "end_time": "2024-07-12T08:59:28.652654Z",
     "start_time": "2024-07-12T08:59:27.678218Z"
    }
   },
   "execution_count": 7
  },
  {
   "cell_type": "code",
   "outputs": [],
   "source": [
    "domestic_emissions_barplot(emissions_df.xs('EUR', level='Aggregation')*100, figsize=(11,7), save=folder_simus / Path('domestic_emissions'), rotation=45, fontsize_annotation=17, fontsize_small_xlabel=18, fontsize_big_xlabel=20, annot_offset_neg=-20, filesuffix='.png', dict_legend=TRANSFORM_LEGEND)"
   ],
   "metadata": {
    "collapsed": false,
    "ExecuteTime": {
     "end_time": "2024-07-12T08:59:29.874065Z",
     "start_time": "2024-07-12T08:59:29.790536Z"
    }
   },
   "execution_count": 8
  },
  {
   "cell_type": "code",
   "outputs": [],
   "source": [
    "# Breakdown of emissions reduction across sectors and types\n",
    "emissions_breakdown_barplot(df=emissions_detail_df.xs('EUR_ref', level='Country', axis=1)*100, groupby='Sector', figsize=(11,7), save=folder_simus / Path('emissions_breakdown_ref'), filesuffix='.png', dict_legend=TRANSFORM_LEGEND, fontsize_big_xlabel=20, fontsize_small_xlabel=19, fontsize_legend_labels=17, nb_sectors=15)"
   ],
   "metadata": {
    "collapsed": false,
    "ExecuteTime": {
     "end_time": "2024-07-12T08:59:33.863378Z",
     "start_time": "2024-07-12T08:59:33.730417Z"
    }
   },
   "execution_count": 10
  },
  {
   "cell_type": "code",
   "outputs": [],
   "source": [
    "# Breakdown of emissions reduction across sectors and types\n",
    "emissions_breakdown_barplot(df=emissions_detail_df.xs('EUR_IO', level='Country', axis=1)*100, groupby='Sector', figsize=(11,7), save=folder_simus / Path('emissions_breakdown_IO'), filesuffix='.png', dict_legend=TRANSFORM_LEGEND, fontsize_big_xlabel=20, fontsize_small_xlabel=19, fontsize_legend_labels=17, ymax_lim=0.2, nb_sectors=15)"
   ],
   "metadata": {
    "collapsed": false,
    "ExecuteTime": {
     "end_time": "2024-07-12T08:59:39.358902Z",
     "start_time": "2024-07-12T08:59:39.237155Z"
    }
   },
   "execution_count": 11
  },
  {
   "cell_type": "code",
   "outputs": [],
   "source": [
    "# Difference in behavior from introducing price effect\n",
    "df_diff = emissions_detail_df.xs('energyservices', level=\"Sector\", axis=1)[['EUR_IO', 'EUR_single']].diff(axis=1).drop('EUR_IO', axis=1)\n",
    "emissions_breakdown_barplot(df=df_diff*100, groupby='Sector', figsize=(11,7), format_y=lambda y, _: '{:.2f} %'.format(y), save=folder_simus / Path('emissions_breakdown_energy_diff_IO_demand'), filesuffix='.png', dict_legend=TRANSFORM_LEGEND, fontsize_big_xlabel=20, fontsize_small_xlabel=19, fontsize_legend_labels=17, nb_sectors=15, display_title=False)"
   ],
   "metadata": {
    "collapsed": false,
    "ExecuteTime": {
     "end_time": "2024-07-12T08:54:11.790196Z",
     "start_time": "2024-07-12T08:54:11.654267Z"
    }
   },
   "execution_count": 7
  },
  {
   "cell_type": "markdown",
   "source": [
    "### Combined shock"
   ],
   "metadata": {
    "collapsed": false
   }
  },
  {
   "cell_type": "code",
   "outputs": [],
   "source": [
    "folder_simus = Path('outputs/simulations_20240513')\n",
    "d = parse_outputs(folder=folder_simus, list_sectors=['combined'], post_processing='reference', file_selection='reference')\n",
    "\n",
    "emissions_df, emissions_absolute_df, emissions_detail_df = parse_emissions(d, index_names=['Sector'], folderpath=folder_simus)"
   ],
   "metadata": {
    "collapsed": false,
    "ExecuteTime": {
     "end_time": "2024-05-13T13:40:33.659711Z",
     "start_time": "2024-05-13T13:40:33.055555Z"
    }
   },
   "execution_count": 9
  },
  {
   "cell_type": "code",
   "outputs": [],
   "source": [
    "# Breakdown of emissions reduction across sectors and types\n",
    "emissions_breakdown_barplot(df=emissions_detail_df.xs('EUR_single', level='Country', axis=1)*100, groupby='Sector', figsize=(11,7), save=folder_simus / Path('emissions_breakdown_single'), filesuffix='.png', dict_legend=TRANSFORM_LEGEND, fontsize_big_xlabel=20, fontsize_small_xlabel=19, fontsize_legend_labels=17, nb_sectors=20)"
   ],
   "metadata": {
    "collapsed": false,
    "ExecuteTime": {
     "end_time": "2024-05-13T13:40:34.369567Z",
     "start_time": "2024-05-13T13:40:34.207426Z"
    }
   },
   "execution_count": 10
  },
  {
   "cell_type": "code",
   "outputs": [],
   "source": [
    "# Breakdown of emissions reduction across sectors and types\n",
    "emissions_breakdown_barplot(df=emissions_detail_df.xs('EUR_IO', level='Country', axis=1)*100, groupby='Sector', figsize=(11,7), save=folder_simus / Path('emissions_breakdown_IO'), filesuffix='.png', dict_legend=TRANSFORM_LEGEND, fontsize_big_xlabel=20, fontsize_small_xlabel=19, fontsize_legend_labels=17, nb_sectors=20, ymax_lim=0.2)"
   ],
   "metadata": {
    "collapsed": false,
    "ExecuteTime": {
     "end_time": "2024-07-12T08:43:37.727140Z",
     "start_time": "2024-07-12T08:43:37.597522Z"
    }
   },
   "execution_count": 22
  },
  {
   "cell_type": "code",
   "outputs": [],
   "source": [
    "# Breakdown of emissions reduction across sectors and types\n",
    "emissions_breakdown_barplot(df=emissions_detail_df.xs('EUR_single', level='Country', axis=1)*100, groupby='Sector', figsize=(11,7), save=folder_simus / Path('emissions_breakdown_demand'), filesuffix='.png', dict_legend=TRANSFORM_LEGEND, fontsize_big_xlabel=20, fontsize_small_xlabel=19, fontsize_legend_labels=17, nb_sectors=20, ymax_lim=0.2)"
   ],
   "metadata": {
    "collapsed": false,
    "ExecuteTime": {
     "end_time": "2024-07-12T08:43:52.041475Z",
     "start_time": "2024-07-12T08:43:51.898478Z"
    }
   },
   "execution_count": 23
  },
  {
   "cell_type": "markdown",
   "source": [
    "### Additional sensitivity"
   ],
   "metadata": {
    "collapsed": false
   }
  },
  {
   "cell_type": "code",
   "outputs": [],
   "source": [
    "folder_simus = Path('outputs/simulations_20240705')\n",
    "\n",
    "d = parse_outputs(folder=folder_simus, list_sectors=['food', 'energy'], sensitivity='theta')\n",
    "\n",
    "emissions_df, emissions_absolute_df, emissions_detail_df = parse_emissions(d, index_names=['Sector', 'Elasticity'], folderpath=folder_simus)\n",
    "emissions_df = emissions_df.reindex(['food', 'energy'], level='Sector').reindex(['Low', 'Ref', 'High', 'Very High'], level='Elasticity')\n",
    "\n",
    "domestic_emissions_barplot(emissions_df.xs('EUR', level='Aggregation').xs('D+CD+CES', level='Effect')*100, first_level_index='Sector', second_level_index='Elasticity', figsize=(10,7), save=folder_simus / Path('domestic_emissions_sensitivity_theta'), rotation=45,\n",
    "                           fontsize_annotation=18, fontsize_small_xlabel=15, fontsize_big_xlabel=18, annot_offset_neg=-20, dict_legend=TRANSFORM_LEGEND, filesuffix='.png')"
   ],
   "metadata": {
    "collapsed": false,
    "ExecuteTime": {
     "end_time": "2024-07-05T08:56:19.589932Z",
     "start_time": "2024-07-05T08:56:15.658220Z"
    }
   },
   "execution_count": 27
  },
  {
   "cell_type": "code",
   "outputs": [],
   "source": [
    "folder_simus = Path('outputs/simulations_20240705')\n",
    "\n",
    "d = parse_outputs(folder=folder_simus, list_sectors=['food', 'energy'], sensitivity='sigma')\n",
    "\n",
    "emissions_df, emissions_absolute_df, emissions_detail_df = parse_emissions(d, index_names=['Sector', 'Elasticity'], folderpath=folder_simus)\n",
    "emissions_df = emissions_df.reindex(['food', 'energy'], level='Sector').reindex(['Low', 'Ref', 'High'], level='Elasticity')\n",
    "\n",
    "domestic_emissions_barplot(emissions_df.xs('EUR', level='Aggregation').xs('D+CD+CES', level='Effect')*100, first_level_index='Sector', second_level_index='Elasticity', figsize=(10,7), save=folder_simus / Path('domestic_emissions_sensitivity_sigma'), rotation=45,\n",
    "                           fontsize_annotation=18, fontsize_small_xlabel=15, fontsize_big_xlabel=18, annot_offset_neg=-20, dict_legend=TRANSFORM_LEGEND, filesuffix='.png')"
   ],
   "metadata": {
    "collapsed": false,
    "ExecuteTime": {
     "end_time": "2024-07-05T08:56:23.162334Z",
     "start_time": "2024-07-05T08:56:20.257586Z"
    }
   },
   "execution_count": 28
  },
  {
   "cell_type": "code",
   "outputs": [],
   "source": [
    "folder_simus = Path('outputs/simulations_20240705')\n",
    "\n",
    "d = parse_outputs(folder=folder_simus, list_sectors=['food', 'energy'], sensitivity='epsilon')\n",
    "\n",
    "emissions_df, emissions_absolute_df, emissions_detail_df = parse_emissions(d, index_names=['Sector', 'Elasticity'], folderpath=folder_simus)\n",
    "emissions_df = emissions_df.reindex(['food', 'energy'], level='Sector').reindex(['Ref', 'High', 'Very High'], level='Elasticity')\n",
    "\n",
    "domestic_emissions_barplot(emissions_df.xs('EUR', level='Aggregation').xs('D+CD+CES', level='Effect')*100, first_level_index='Sector', second_level_index='Elasticity', figsize=(10,7), save=folder_simus / Path('domestic_emissions_sensitivity_epsilon'), rotation=45,\n",
    "                           fontsize_annotation=18, fontsize_small_xlabel=15, fontsize_big_xlabel=18, annot_offset_neg=-20, dict_legend=TRANSFORM_LEGEND, filesuffix='.png')"
   ],
   "metadata": {
    "collapsed": false,
    "ExecuteTime": {
     "end_time": "2024-07-05T08:56:26.891211Z",
     "start_time": "2024-07-05T08:56:24.070238Z"
    }
   },
   "execution_count": 29
  },
  {
   "cell_type": "code",
   "outputs": [],
   "source": [
    "folder_simus = Path('outputs/simulations_20240514')\n",
    "d = parse_outputs(folder=folder_simus, list_sectors=['food', 'energy'], sensitivity='theta')\n",
    "\n",
    "emissions_df, emissions_absolute_df, emissions_detail_df = parse_emissions(d, index_names=['Sector', 'Elasticity'], folderpath=folder_simus, select_sensitivity='Ref')\n",
    "emissions_df = emissions_df.reindex(['food', 'energy'], level='Sector').reindex(['Ref', 'High', 'Very High'], level='Elasticity')\n",
    "\n",
    "emissions_breakdown_barplot(df=emissions_detail_df.xs('EUR_ref', level='Country', axis=1)*100, groupby='Sector', figsize=(11,7), save=folder_simus / Path('emissions_breakdown_thetaref'), filesuffix='.png', dict_legend=TRANSFORM_LEGEND, fontsize_big_xlabel=20, fontsize_small_xlabel=19, fontsize_legend_labels=17, nb_sectors=10)"
   ],
   "metadata": {
    "collapsed": false,
    "ExecuteTime": {
     "end_time": "2024-05-14T08:48:07.862308Z",
     "start_time": "2024-05-14T08:48:03.884258Z"
    }
   },
   "execution_count": 3
  },
  {
   "cell_type": "code",
   "outputs": [],
   "source": [
    "folder_simus = Path('outputs/simulations_20240514')\n",
    "d = parse_outputs(folder=folder_simus, list_sectors=['food', 'energy'], sensitivity='theta')\n",
    "\n",
    "emissions_df, emissions_absolute_df, emissions_detail_df = parse_emissions(d, index_names=['Sector', 'Elasticity'], folderpath=folder_simus, select_sensitivity='Very High')\n",
    "emissions_df = emissions_df.reindex(['food', 'energy'], level='Sector').reindex(['Ref', 'High', 'Very High'], level='Elasticity')\n",
    "\n",
    "emissions_breakdown_barplot(df=emissions_detail_df.xs('EUR_ref', level='Country', axis=1)*100, groupby='Sector', figsize=(11,7), save=folder_simus / Path('emissions_breakdown_thetaveryhigh'), filesuffix='.png', dict_legend=TRANSFORM_LEGEND, fontsize_big_xlabel=20, fontsize_small_xlabel=19, fontsize_legend_labels=17, nb_sectors=10)"
   ],
   "metadata": {
    "collapsed": false,
    "ExecuteTime": {
     "end_time": "2024-05-14T08:48:38.829885Z",
     "start_time": "2024-05-14T08:48:34.776090Z"
    }
   },
   "execution_count": 5
  },
  {
   "cell_type": "markdown",
   "source": [
    "### Config Mejean"
   ],
   "metadata": {
    "collapsed": false
   }
  },
  {
   "cell_type": "code",
   "outputs": [],
   "source": [
    "folder_simus = Path('outputs/simulations_20240513')\n",
    "d = parse_outputs(folder=folder_simus, list_sectors=['food', 'energy'], post_processing='reference', file_selection='reference', configref={'sigma': 0.2, 'epsilon': 0.2})\n",
    "\n",
    "emissions_df, emissions_absolute_df, emissions_detail_df = parse_emissions(d, index_names=['Sector'], folderpath=folder_simus)"
   ],
   "metadata": {
    "collapsed": false,
    "ExecuteTime": {
     "end_time": "2024-05-13T16:44:03.969485Z",
     "start_time": "2024-05-13T16:44:02.910215Z"
    }
   },
   "execution_count": 2
  },
  {
   "cell_type": "code",
   "outputs": [],
   "source": [
    "domestic_emissions_barplot(emissions_df.xs('EUR', level='Aggregation')*100, figsize=(11,7), save=folder_simus / Path('domestic_emissions_mejean'), rotation=45, fontsize_annotation=17, fontsize_small_xlabel=18, fontsize_big_xlabel=20, annot_offset_neg=-20, filesuffix='.png', dict_legend=TRANSFORM_LEGEND)"
   ],
   "metadata": {
    "collapsed": false,
    "ExecuteTime": {
     "end_time": "2024-05-13T16:44:24.382352Z",
     "start_time": "2024-05-13T16:44:24.263061Z"
    }
   },
   "execution_count": 4
  },
  {
   "cell_type": "markdown",
   "source": [
    "### Old code"
   ],
   "metadata": {
    "collapsed": false
   }
  },
  {
   "cell_type": "code",
   "outputs": [],
   "source": [
    "d = {\n",
    "    # 'Food': Path('outputs/new_simus/EUR_food_new_theta0.5_sigma0.9_epsilon0.001_delta0.9_mu0.9_nu0.001_kappa0.5_rho0.95.xlsx'),\n",
    "    'Food': Path('outputs/new_simus/EUR_food2_theta0.5_sigma0.9_epsilon0.001_delta0.9_mu0.9_nu0.001_kappa0.5_rho0.95.xlsx'),\n",
    "    'Energy': Path('outputs/new_simus/EUR_energy_theta0.5_sigma0.9_epsilon0.001_delta0.9_mu0.9_nu0.001_kappa0.5_rho0.95.xlsx'),\n",
    "    # 'Comprehensive': Path('outputs/new_simus/EUR_combined2_theta0.5_sigma0.9_epsilon0.001_delta0.9_mu0.9_nu0.001_kappa0.5_rho0.95.xlsx')\n",
    "}\n",
    "emissions_df, emissions_absolute_df = parse_emissions(d, index_names=['Sector'], folderpath=Path('outputs/new_simus/'))"
   ],
   "metadata": {
    "collapsed": false,
    "ExecuteTime": {
     "start_time": "2024-05-10T13:27:29.517144Z"
    }
   },
   "execution_count": null
  },
  {
   "cell_type": "code",
   "outputs": [],
   "source": [
    "domestic_emissions_barplot(emissions_df.xs('EUR', level='Aggregation')*100, figsize=(11,7), save='outputs/new_simus/domestic_emissions', rotation=45, fontsize_annotation=15, fontsize_small_xlabel=15, fontsize_big_xlabel=18, annot_offset_neg=-20)"
   ],
   "metadata": {
    "collapsed": false,
    "ExecuteTime": {
     "start_time": "2024-05-10T13:27:29.518300Z"
    }
   },
   "execution_count": null
  },
  {
   "cell_type": "code",
   "outputs": [],
   "source": [
    "absolute_emissions_barplot(emissions_absolute_df.xs('EUR', level='Aggregation').xs('Energy', level='Sector')*1e-3, sector='energy',\n",
    "                           save='outputs/new_simus/absolute_emissions', y_min=-420, y_max=150, fontsize_annotation=15, fontsize_small_xlabel=15, fontsize_big_xlabel=18, annot_offset_neg=-20)"
   ],
   "metadata": {
    "collapsed": false,
    "ExecuteTime": {
     "start_time": "2024-05-10T13:27:29.519272Z"
    }
   },
   "execution_count": null
  },
  {
   "cell_type": "code",
   "outputs": [],
   "source": [
    "absolute_emissions_barplot(emissions_absolute_df.xs('EUR', level='Aggregation').xs('Food', level='Sector')*1e-3, sector='food2', save='outputs/new_simus/absolute_emissions', y_min=-420, y_max=150, fontsize_annotation=15, fontsize_small_xlabel=15, fontsize_big_xlabel=18, annot_offset_neg=-20)"
   ],
   "metadata": {
    "collapsed": false,
    "ExecuteTime": {
     "start_time": "2024-05-10T13:27:29.520362Z"
    }
   },
   "execution_count": null
  },
  {
   "cell_type": "code",
   "outputs": [],
   "source": [
    "absolute_emissions_barplot(emissions_absolute_df.xs('EUR', level='Aggregation').xs('Comprehensive', level='Sector')*1e-3, sector='combined2', save='outputs/new_simus/absolute_emissions', y_min=-420, y_max=150, fontsize_annotation=15, fontsize_small_xlabel=15, fontsize_big_xlabel=18, annot_offset_neg=-20)"
   ],
   "metadata": {
    "collapsed": false,
    "ExecuteTime": {
     "start_time": "2024-05-10T13:27:29.521355Z"
    }
   },
   "execution_count": null
  },
  {
   "cell_type": "code",
   "outputs": [],
   "source": [
    "d = {\n",
    "    'Food': Path('outputs/new_simus/EUR_food_new_theta0.5_sigma0.9_epsilon0.001_delta0.9_mu0.9_nu0.001_kappa0.1_rho0.1.xlsx'),\n",
    "    'Energy': Path('outputs/new_simus/EUR_energy_theta0.5_sigma0.9_epsilon0.001_delta0.9_mu0.9_nu0.001_kappa0.1_rho0.1.xlsx')\n",
    "}\n",
    "emissions_df, emissions_absolute_df = parse_emissions(d, index_names=['Sector'], folderpath=Path('outputs/new_simus/'))"
   ],
   "metadata": {
    "collapsed": false,
    "ExecuteTime": {
     "start_time": "2024-05-10T13:27:29.522563Z"
    }
   },
   "execution_count": null
  },
  {
   "cell_type": "code",
   "outputs": [],
   "source": [
    "absolute_emissions_barplot(emissions_absolute_df.xs('EUR', level='Aggregation').xs('Energy', level='Sector')*1e-3, sector='energy',\n",
    "                           save='outputs/new_simus/absolute_emissions_lowelasticity')"
   ],
   "metadata": {
    "collapsed": false,
    "ExecuteTime": {
     "start_time": "2024-05-10T13:27:29.523832Z"
    }
   },
   "execution_count": null
  },
  {
   "cell_type": "code",
   "outputs": [],
   "source": [
    "absolute_emissions_barplot(emissions_absolute_df.xs('EUR', level='Aggregation').xs('Food', level='Sector')*1e-3, sector='food', save='outputs/new_simus/absolute_emissions_lowelasticity', y_min=-320, y_max=100)"
   ],
   "metadata": {
    "collapsed": false,
    "ExecuteTime": {
     "start_time": "2024-05-10T13:27:29.524851Z"
    }
   },
   "execution_count": null
  },
  {
   "cell_type": "markdown",
   "source": [
    "## Uniform shock"
   ],
   "metadata": {
    "collapsed": false
   }
  },
  {
   "cell_type": "code",
   "outputs": [],
   "source": [
    "d = {\n",
    "    'Food': Path('outputs/new_simus/EUR_food_new_theta0.5_sigma0.9_epsilon0.001_delta0.9_mu0.9_nu0.9_kappa0.9_rho0.95_uniform.xlsx'),\n",
    "    'Energy': Path('outputs/new_simus/EUR_energy_theta0.5_sigma0.9_epsilon0.001_delta0.9_mu0.9_nu0.9_kappa0.9_rho0.95_uniform.xlsx'),\n",
    "}\n",
    "emissions_df, emissions_absolute_df = parse_emissions(d, index_names=['Sector'], folderpath=Path('outputs/new_simus/'))"
   ],
   "metadata": {
    "collapsed": false,
    "ExecuteTime": {
     "start_time": "2024-05-10T13:27:29.525581Z"
    }
   },
   "execution_count": null
  },
  {
   "cell_type": "code",
   "outputs": [],
   "source": [
    "domestic_emissions_barplot(emissions_df.xs('EUR', level='Aggregation')*100, figsize=(10,7), save='outputs/new_simus/domestic_emissions_uniform', rotation=45)"
   ],
   "metadata": {
    "collapsed": false,
    "ExecuteTime": {
     "start_time": "2024-05-10T13:27:29.526617Z"
    }
   },
   "execution_count": null
  },
  {
   "cell_type": "code",
   "outputs": [],
   "source": [
    "absolute_emissions_barplot(emissions_absolute_df.xs('EUR', level='Aggregation').xs('Food', level='Sector')*1e-3, sector='food',\n",
    "                           save='outputs/new_simus/absolute_emissions_uniform')"
   ],
   "metadata": {
    "collapsed": false,
    "ExecuteTime": {
     "start_time": "2024-05-10T13:27:29.527612Z"
    }
   },
   "execution_count": null
  },
  {
   "cell_type": "code",
   "outputs": [],
   "source": [
    "absolute_emissions_barplot(emissions_absolute_df.xs('EUR', level='Aggregation').xs('Energy', level='Sector')*1e-3, sector='energy',\n",
    "                           save='outputs/new_simus/absolute_emissions_uniform')"
   ],
   "metadata": {
    "collapsed": false,
    "ExecuteTime": {
     "start_time": "2024-05-10T13:27:29.528508Z"
    }
   },
   "execution_count": null
  },
  {
   "cell_type": "markdown",
   "source": [
    "## Sensitivity"
   ],
   "metadata": {
    "collapsed": false
   }
  },
  {
   "cell_type": "code",
   "outputs": [],
   "source": [
    "d = parse_outputs(folder=folder_simus, list_sectors=['food', 'energy'], post_processing='sensitivity_energyservices')\n",
    "\n",
    "emissions_df, emissions_absolute_df, emissions_detail_df = parse_emissions(d, index_names=['Sector', 'Elasticity'], folderpath=folder_simus)\n",
    "emissions_df = emissions_df.reindex(['food', 'energy'], level='Sector').reindex(['Low', 'Ref', 'High'], level='Elasticity')\n",
    "\n",
    "domestic_emissions_barplot(emissions_df.xs('EUR', level='Aggregation').xs('D+CD+CES', level='Effect')*100, first_level_index='Sector', second_level_index='Elasticity', figsize=(10,7), save=folder_simus / Path('domestic_emissions_sensitivity_kappa'), rotation=45,\n",
    "                           fontsize_annotation=15, fontsize_small_xlabel=15, fontsize_big_xlabel=18, annot_offset_neg=-20)"
   ],
   "metadata": {
    "collapsed": false,
    "ExecuteTime": {
     "start_time": "2024-05-10T13:27:29.529309Z"
    }
   },
   "execution_count": null
  },
  {
   "cell_type": "code",
   "outputs": [],
   "source": [
    "d = parse_outputs(folder=folder_simus, list_sectors=['food', 'energy'], post_processing='sensitivity_durable', configref={'kappa': 0.5})\n",
    "\n",
    "emissions_df, emissions_absolute_df, emissions_detail_df = parse_emissions(d, index_names=['Sector', 'Elasticity'], folderpath=folder_simus)\n",
    "emissions_df = emissions_df.reindex(['food', 'energy'], level='Sector').reindex(['Low', 'Ref', 'High'], level='Elasticity')\n",
    "\n",
    "domestic_emissions_barplot(emissions_df.xs('EUR', level='Aggregation').xs('D+CD+CES', level='Effect')*100, first_level_index='Sector', second_level_index='Elasticity', figsize=(10,7), save=folder_simus / Path('domestic_emissions_sensitivity_rho'), rotation=45,\n",
    "                           fontsize_annotation=15, fontsize_small_xlabel=15, fontsize_big_xlabel=18, annot_offset_neg=-20)"
   ],
   "metadata": {
    "collapsed": false,
    "ExecuteTime": {
     "start_time": "2024-05-10T13:27:29.530138Z"
    }
   },
   "execution_count": null
  },
  {
   "cell_type": "code",
   "outputs": [],
   "source": [],
   "metadata": {
    "collapsed": false,
    "ExecuteTime": {
     "start_time": "2024-05-10T13:27:29.530797Z"
    }
   }
  },
  {
   "cell_type": "markdown",
   "source": [
    "# Data"
   ],
   "metadata": {
    "collapsed": false
   }
  },
  {
   "cell_type": "code",
   "execution_count": null,
   "metadata": {
    "ExecuteTime": {
     "start_time": "2024-05-10T13:27:29.531512Z"
    }
   },
   "outputs": [],
   "source": [
    "# Generate random data\n",
    "index = pd.MultiIndex.from_tuples(\n",
    "    product((\"France\", \"USA\"), (\"Food\", \"Mobility\"), (\"D\", \"D+P\", \"D+P+S \")),\n",
    "    names=['Country', 'Sector', 'Category']\n",
    ")\n",
    "\n",
    "np.random.seed(0)  # for reproducibility\n",
    "data = [-0.9, -1.1, -0.5, -2.6, -2.5, -2.3, - 0.52, -0.79, -0.23, -1.7, -1.3, -0.9]\n",
    "# data = -np.random.rand(len(index))\n",
    "series = pd.Series(data, index=index)\n"
   ]
  },
  {
   "cell_type": "code",
   "outputs": [],
   "source": [
    "series.iloc[0]"
   ],
   "metadata": {
    "collapsed": false,
    "ExecuteTime": {
     "start_time": "2024-05-10T13:27:29.532278Z"
    }
   },
   "execution_count": null
  },
  {
   "cell_type": "code",
   "outputs": [],
   "source": [
    "# Specific shock\n",
    "index = pd.MultiIndex.from_tuples(\n",
    "    product((\"Europe\", \"France\"), (\"Food\", \"Mobility\"), (\"D\", \"D+CD\", \"D+CD+CES \")),\n",
    "    names=['Country', 'Sector', 'Category']\n",
    ")\n",
    "\n",
    "np.random.seed(0)  # for reproducibility\n",
    "data = [-0.62, -0.33, -0.34, \n",
    "        -1.6, -0.79, -1.0, \n",
    "        - 0.91, -0.57, -0.54, \n",
    "        -1.6, -1.3, -1.4]\n",
    "# data = -np.random.rand(len(index))\n",
    "series = pd.Series(data, index=index)\n",
    "series"
   ],
   "metadata": {
    "collapsed": false,
    "ExecuteTime": {
     "start_time": "2024-05-10T13:27:29.532961Z"
    }
   },
   "execution_count": null
  },
  {
   "cell_type": "code",
   "outputs": [],
   "source": [
    "# Overall shock\n",
    "index = pd.MultiIndex.from_tuples(\n",
    "    product((\"Europe\", \"France\"), (\"Food\", \"Mobility\"), (\"D\", \"D+CD\", \"D+CD+CES \")),\n",
    "    names=['Country', 'Sector', 'Category']\n",
    ")\n",
    "\n",
    "np.random.seed(0)  # for reproducibility\n",
    "data = [-0.69, -0.43, -0.44, \n",
    "        -1.6, -0.22, -0.32, \n",
    "        - 0.91, -0.57, -0.54, \n",
    "        -1.6, -1.3, -1.4]\n",
    "# data = -np.random.rand(len(index))\n",
    "series = pd.Series(data, index=index)\n",
    "series"
   ],
   "metadata": {
    "collapsed": false,
    "ExecuteTime": {
     "start_time": "2024-05-10T13:27:29.533753Z"
    }
   },
   "execution_count": null
  },
  {
   "cell_type": "code",
   "execution_count": null,
   "metadata": {
    "ExecuteTime": {
     "start_time": "2024-05-10T13:27:29.534519Z"
    }
   },
   "outputs": [],
   "source": [
    "n_countries = series.index.get_level_values(\"Country\").nunique()\n",
    "n_sectors = series.index.get_level_values(\"Sector\").nunique()\n",
    "n_categories = series.index.get_level_values(\"Category\").nunique()\n",
    "min_value = series.min()"
   ]
  },
  {
   "cell_type": "code",
   "execution_count": null,
   "metadata": {
    "ExecuteTime": {
     "start_time": "2024-05-10T13:27:29.535523Z"
    }
   },
   "outputs": [],
   "source": [
    "min_value"
   ]
  },
  {
   "cell_type": "code",
   "execution_count": null,
   "metadata": {
    "ExecuteTime": {
     "start_time": "2024-05-10T13:27:29.536234Z"
    }
   },
   "outputs": [],
   "source": [
    "# Optional preamble, for latex-looking figures \n",
    "\n",
    "import os\n",
    "# Get path with the command `which latex`\n",
    "os.environ[\"PATH\"] = \"/Library/TeX/texbin:$PATH\"\n",
    "plt.rcParams.update({\n",
    "    # Use LaTeX to write all text\n",
    "    \"text.usetex\": True,\n",
    "    \"font.family\": \"serif\",\n",
    "    \"font.sans-serif\": [\"Helvetica\"],\n",
    "    # To have access to AMS maths commands\n",
    "    'text.latex.preamble': r'\\usepackage{amsmath}',\n",
    "    # Use 10pt font in plots, to match 10pt font in document\n",
    "    \"axes.labelsize\": 10,\n",
    "    \"font.size\": 8,\n",
    "    # Make the legend/label fonts a little smaller\n",
    "    \"legend.fontsize\": 8,\n",
    "    \"xtick.labelsize\": 8,\n",
    "    \"ytick.labelsize\": 8\n",
    "})"
   ]
  },
  {
   "cell_type": "markdown",
   "metadata": {},
   "source": [
    "# 1 fig per column"
   ]
  },
  {
   "cell_type": "code",
   "execution_count": null,
   "metadata": {
    "ExecuteTime": {
     "start_time": "2024-05-10T13:27:29.536968Z"
    }
   },
   "outputs": [],
   "source": [
    "# Some sizes in the plot, see figure for details \n",
    "\n",
    "# Size of blank space over size of ensemble of categories\n",
    "ratio_space = 0.3\n",
    "\n",
    "# Half-Blank Sector1 Blank Sector2 ... SectorN Half-Blank \n",
    "size_sectors = 1 / (n_sectors + ratio_space * n_sectors )\n",
    "size_blank = ratio_space * size_sectors\n",
    "\n",
    "# For each sector, multiple categories displayed\n",
    "size_categories = size_sectors / n_categories\n",
    "\n",
    "# Amount of space between bars and labels \n",
    "y_text_offset = 0.15\n",
    "y_label_categories = 0.25\n",
    "y_label_sector = 0.60"
   ]
  },
  {
   "cell_type": "code",
   "execution_count": null,
   "metadata": {
    "ExecuteTime": {
     "start_time": "2024-05-10T13:27:29.537653Z"
    }
   },
   "outputs": [],
   "source": [
    "## Select the country \n",
    "country = 'Europe'\n",
    "s_country = series.xs(country, level='Country')\n",
    "\n",
    "## The ax: we plot a single black line from 0 to 1 \n",
    "\n",
    "# Get the textwidth from latex with \\the\\textwidth (or \\showthe\\textwidth).\n",
    "fig, ax = plt.subplots(figsize=(450/72, 200/72))\n",
    "ax.spines['left'].set_visible(False)  # hide the left spine\n",
    "ax.spines['right'].set_visible(False)  # hide the right spine\n",
    "ax.spines['bottom'].set_visible(False)  # hide the top spine\n",
    "ax.spines['top'].set_visible(False)  # hide the top spine\n",
    "ax.yaxis.set_visible(False)  # hide the y-axis\n",
    "ax.xaxis.set_visible(False)  # hide the y-axis\n",
    "ax.plot([0, 1], [0, 0], color='black')\n",
    "\n",
    "## Select the palette \n",
    "\n",
    "# A color-blind friendly palette\n",
    "palette = ['#377eb8', '#ff7f00', '#4daf4a', '#f781bf', '#a65628', '#984ea3', '#999999', '#e41a1c', '#dede00']\n",
    "# Default palette\n",
    "# palette = cm.tab10(9)\n",
    "\n",
    "colors = {\n",
    "    k: v for k, v in zip(\n",
    "        s_country.index.get_level_values(\"Category\").unique(), \n",
    "        palette)}\n",
    "\n",
    "# Some keyword so that s in ax.text(x, y, s) is aligned around (x, y)\n",
    "text_align = {\n",
    "    \"horizontalalignment\": \"center\", \"verticalalignment\": \"center\"\n",
    "}\n",
    "\n",
    "# We start with a blank offset \n",
    "current_x = size_blank / 2 \n",
    "\n",
    "# For each sector... \n",
    "for ind_sector, sector in enumerate(s_country.index.get_level_values(\"Sector\").unique()):\n",
    "    # Restrict the dataframe \n",
    "    s_sector = s_country.xs(sector, level=\"Sector\")\n",
    "    # Print the name of the sector: \n",
    "    # Leave half a blank, then multiple sectors, then multiple full blanks \n",
    "    ax.text(size_blank * (ind_sector + 0.5) + size_sectors * (ind_sector + 0.5), y_label_sector, sector, \n",
    "            **text_align, fontsize=12)\n",
    "    \n",
    "    # For each category...\n",
    "    for category in s_sector.index.get_level_values(\"Category\").unique():\n",
    "        # This is the value we plot \n",
    "        current_y = s_sector.loc[category]\n",
    "        plt.bar(current_x, current_y, width=size_categories, color=colors[category], align=\"edge\")\n",
    "        \n",
    "        # This is the label \n",
    "        ax.text(current_x + size_categories / 2, y_label_categories, category, rotation=45, \n",
    "                **text_align)\n",
    "                # ax.text(current_x + size_categories / 2, y_label_categories, category, \n",
    "                # horizontalalignment=\"center\", verticalalignment=\"bottom\", rotation=45, fontsize=7)\n",
    "        # This is the value, below the bar\n",
    "        ax.text(current_x + size_categories / 2, current_y - y_text_offset, f\"{current_y:.2f}\\\\%\", **text_align)\n",
    "        # Next plot will be a bit further\n",
    "        current_x += size_categories\n",
    "    \n",
    "    # We skip a blank \n",
    "    current_x += size_blank\n",
    "\n",
    "fig.savefig(f\"output_{country}_022024_single.pdf\", transparent=True, bbox_inches='tight', pad_inches=0)\n"
   ]
  },
  {
   "cell_type": "markdown",
   "source": [
    "# Processing"
   ],
   "metadata": {
    "collapsed": false
   }
  },
  {
   "cell_type": "code",
   "outputs": [],
   "source": [
    "d = {\n",
    "    'EUR - Food': Path('outputs/new_simus/EUR_food_new_theta0.5_sigma0.9_epsilon0.001_delta0.9_mu0.9_nu0.9_kappa0.9_rho0.95.xlsx'),\n",
    "    'EUR - Energy': Path('outputs/new_simus/EUR_energy_theta0.5_sigma0.9_epsilon0.001_delta0.9_mu0.9_nu0.9_kappa0.9_rho0.95.xlsx'),\n",
    "}\n",
    "\n",
    "emissions_df, emissions_absolute_df, welfare_df = process_output(d, folderpath=Path('outputs/new_simus/'))"
   ],
   "metadata": {
    "collapsed": false,
    "ExecuteTime": {
     "start_time": "2024-05-10T13:27:29.538687Z"
    }
   },
   "execution_count": null
  },
  {
   "cell_type": "code",
   "outputs": [],
   "source": [
    "domestic_emissions_barplot(emissions_df.xs('EUR', level='Aggregation')*100, figsize=(10,7), save=Path('outputs/new_simus'), rotation=45)"
   ],
   "metadata": {
    "collapsed": false,
    "ExecuteTime": {
     "start_time": "2024-05-10T13:27:29.539408Z"
    }
   },
   "execution_count": null
  },
  {
   "cell_type": "code",
   "outputs": [],
   "source": [
    "absolute_emissions_barplot(emissions_absolute_df.xs('EUR', level='Aggregation').xs('Energy', level='Sector')*1e-3, sector='energy',\n",
    "                           save=Path('outputs/new_simus'))"
   ],
   "metadata": {
    "collapsed": false,
    "ExecuteTime": {
     "start_time": "2024-05-10T13:27:29.540123Z"
    }
   },
   "execution_count": null
  },
  {
   "cell_type": "code",
   "outputs": [],
   "source": [
    "absolute_emissions_barplot(emissions_absolute_df.xs('EUR', level='Aggregation').xs('Food', level='Sector')*1e-3, sector='food', save=Path('outputs/new_simus'),\n",
    "                           label_y_offset=5)"
   ],
   "metadata": {
    "collapsed": false,
    "ExecuteTime": {
     "start_time": "2024-05-10T13:27:29.540786Z"
    }
   },
   "execution_count": null
  },
  {
   "cell_type": "code",
   "outputs": [],
   "source": [
    "d = {\n",
    "    'EUR - Food': Path('outputs/EUR_food_theta0.5_sigma0.9_epsilon0.001_delta0.9_mu0.9_nu0.9_kappa0.9.xlsx'),\n",
    "    'FRA - Food': Path('outputs/FRA_food_theta0.5_sigma0.9_epsilon0.001_delta0.9_mu0.9_nu0.9_kappa0.9.xlsx'),\n",
    "    'EUR - Mobility': Path('outputs/EUR_distance_theta0.5_sigma0.9_epsilon0.001_delta0.9_mu0.9_nu0.9_kappa0.9.xlsx'),\n",
    "    'FRA - Mobility': Path('outputs/FRA_distance_theta0.5_sigma0.9_epsilon0.001_delta0.9_mu0.9_nu0.9_kappa0.9.xlsx')\n",
    "}\n",
    "d = {\n",
    "    'EUR - Food': Path('outputs/EUR_food_theta0.5_sigma0.9_epsilon0.001_delta0.9_mu0.9_nu0.8_kappa0.8.xlsx'),\n",
    "    'FRA - Food': Path('outputs/FRA_food_theta0.5_sigma0.9_epsilon0.001_delta0.9_mu0.9_nu0.8_kappa0.8.xlsx'),\n",
    "    'EUR - Mobility': Path('outputs/EUR_distance_theta0.5_sigma0.9_epsilon0.001_delta0.9_mu0.9_nu0.8_kappa0.8.xlsx'),\n",
    "    'FRA - Mobility': Path('outputs/FRA_distance_theta0.5_sigma0.9_epsilon0.001_delta0.9_mu0.9_nu0.8_kappa0.8.xlsx')\n",
    "}\n",
    "emissions_df, emissions_absolute_df, welfare_df = process_output(d)"
   ],
   "metadata": {
    "collapsed": false,
    "ExecuteTime": {
     "start_time": "2024-05-10T13:27:29.541466Z"
    }
   },
   "execution_count": null
  },
  {
   "cell_type": "markdown",
   "source": [
    "## Rebound effect with IO"
   ],
   "metadata": {
    "collapsed": false
   }
  },
  {
   "cell_type": "code",
   "outputs": [],
   "source": [
    "series = pd.read_excel('outputs/emissions.xlsx', index_col=[0,1, 2]).squeeze()\n",
    "series = series*100\n",
    "\n",
    "n_countries = series.index.get_level_values(\"Country\").nunique()\n",
    "n_sectors = series.index.get_level_values(\"Sector\").nunique()\n",
    "n_categories = series.index.get_level_values(\"Category\").nunique()\n",
    "min_value = series.min()\n",
    "\n",
    "# Some sizes in the plot, see figure for details \n",
    "\n",
    "# Size of blank space over size of ensemble of categories\n",
    "ratio_space = 0.1\n",
    "\n",
    "# Half-Blank Sector1 Blank Sector2 ... SectorN Half-Blank \n",
    "size_sectors = 1 / (n_sectors + ratio_space * n_sectors )\n",
    "size_blank = ratio_space * size_sectors\n",
    "\n",
    "# For each sector, multiple categories displayed\n",
    "size_categories = size_sectors / n_categories\n",
    "\n",
    "# Amount of space between bars and labels \n",
    "y_text_offset = 0.15\n",
    "y_label_categories = 0.05\n",
    "y_label_sector = 0.60\n",
    "\n",
    "## Select the country \n",
    "country = \"EUR\"\n",
    "s_country = series.xs(country, level='Country')\n",
    "\n",
    "## The ax: we plot a single black line from 0 to 1 \n",
    "\n",
    "# Get the textwidth from latex with \\the\\textwidth (or \\showthe\\textwidth).\n",
    "fig, ax = plt.subplots(figsize=(202/72, 200/72))\n",
    "ax.spines['left'].set_visible(False)  # hide the left spine\n",
    "ax.spines['right'].set_visible(False)  # hide the right spine\n",
    "ax.spines['bottom'].set_visible(False)  # hide the top spine\n",
    "ax.spines['top'].set_visible(False)  # hide the top spine\n",
    "ax.yaxis.set_visible(False)  # hide the y-axis\n",
    "ax.xaxis.set_visible(False)  # hide the y-axis\n",
    "\n",
    "# Some tricks in order to avoid the axis to change position between the two countries\n",
    "ax.plot([0, 1], [0, 0], color='black')\n",
    "ax.plot([0, 0], [0, min_value], color=\"white\", alpha=0)\n",
    "plt.ylim(min_value, 0.5)\n",
    "plt.xlim(0, 1)\n",
    "plt.subplots_adjust(left=0, right=1, top=0.9, bottom=0.1)\n",
    "\n",
    "## Select the palette \n",
    "\n",
    "# A color-blind friendly palette\n",
    "palette = ['#377eb8', '#ff7f00', '#4daf4a', '#f781bf', '#a65628', '#984ea3', '#999999', '#e41a1c', '#dede00']\n",
    "# Default palette\n",
    "# palette = cm.tab10(9)\n",
    "\n",
    "colors = {\n",
    "    k: v for k, v in zip(\n",
    "        s_country.index.get_level_values(\"Category\").unique(), \n",
    "        palette)}\n",
    "\n",
    "# Some keyword so that s in ax.text(x, y, s) is aligned around (x, y)\n",
    "text_align = {\n",
    "    \"horizontalalignment\": \"center\", \"verticalalignment\": \"center\"\n",
    "}\n",
    "\n",
    "# We start with a blank offset \n",
    "current_x = size_blank / 2 \n",
    "\n",
    "# For each sector... \n",
    "for ind_sector, sector in enumerate(s_country.index.get_level_values(\"Sector\").unique()):\n",
    "    # Restrict the dataframe \n",
    "    s_sector = s_country.xs(sector, level=\"Sector\")\n",
    "    # Print the name of the sector: \n",
    "    # Leave half a blank, then multiple sectors, then multiple full blanks \n",
    "    ax.text(size_blank * (ind_sector + 0.5) + size_sectors * (ind_sector + 0.5), y_label_sector, sector, \n",
    "            **text_align, fontsize=8)\n",
    "    \n",
    "    # For each category...\n",
    "    for category in s_sector.index.get_level_values(\"Category\").unique():\n",
    "        # This is the value we plot \n",
    "        current_y = s_sector.loc[category]\n",
    "        plt.bar(current_x, current_y, width=size_categories, color=colors[category], align=\"edge\")\n",
    "        \n",
    "        # This is the label \n",
    "        ax.text(current_x + size_categories / 2, y_label_categories, category, \n",
    "                horizontalalignment=\"center\", verticalalignment=\"bottom\", rotation=45, fontsize=7)\n",
    "        # This is the value, below the bar\n",
    "        ax.text(current_x + size_categories / 2, current_y - y_text_offset, f\"{current_y:.2f}%\", \n",
    "                **text_align, fontsize=6, rotation=0)\n",
    "        # Next plot will be a bit further\n",
    "        current_x += size_categories\n",
    "    \n",
    "    # We skip a blank \n",
    "    current_x += size_blank\n",
    "\n",
    "# fig.savefig(f\"output_{country}.pdf\", transparent=True, bbox_inches=Bbox([[0, min_value], [1, 0.5]]), pad_inches=0)\n",
    "d = datetime.datetime.now().strftime(\"%m%d%H%M%S\")\n",
    "fig.savefig(f\"graphs/output_{country}_{d}.pdf\", transparent=True, bbox_inches=None, pad_inches=0)"
   ],
   "metadata": {
    "collapsed": false,
    "ExecuteTime": {
     "start_time": "2024-05-10T13:27:29.542196Z"
    }
   },
   "execution_count": null
  },
  {
   "cell_type": "code",
   "outputs": [],
   "source": [
    "colors"
   ],
   "metadata": {
    "collapsed": false,
    "ExecuteTime": {
     "start_time": "2024-05-10T13:27:29.543243Z"
    }
   },
   "execution_count": null
  },
  {
   "cell_type": "code",
   "outputs": [],
   "source": [],
   "metadata": {
    "collapsed": false,
    "ExecuteTime": {
     "start_time": "2024-05-10T13:27:29.544205Z"
    }
   }
  },
  {
   "cell_type": "markdown",
   "metadata": {},
   "source": [
    "## 2 figs side by side"
   ]
  },
  {
   "cell_type": "code",
   "outputs": [],
   "source": [
    "series = pd.read_excel('outputs/emissions.xlsx', index_col=[0,1, 2]).squeeze()\n",
    "series = series*100\n",
    "series "
   ],
   "metadata": {
    "collapsed": false,
    "ExecuteTime": {
     "start_time": "2024-05-10T13:27:29.545247Z"
    }
   },
   "execution_count": null
  },
  {
   "cell_type": "code",
   "outputs": [],
   "source": [
    "n_countries = series.index.get_level_values(\"Country\").nunique()\n",
    "n_sectors = series.index.get_level_values(\"Sector\").nunique()\n",
    "n_categories = series.index.get_level_values(\"Category\").nunique()\n",
    "min_value = series.min()"
   ],
   "metadata": {
    "collapsed": false,
    "ExecuteTime": {
     "start_time": "2024-05-10T13:27:29.546040Z"
    }
   },
   "execution_count": null
  },
  {
   "cell_type": "code",
   "execution_count": null,
   "metadata": {
    "ExecuteTime": {
     "start_time": "2024-05-10T13:27:29.546831Z"
    }
   },
   "outputs": [],
   "source": [
    "# Some sizes in the plot, see figure for details \n",
    "\n",
    "# Size of blank space over size of ensemble of categories\n",
    "ratio_space = 0.1\n",
    "\n",
    "# Half-Blank Sector1 Blank Sector2 ... SectorN Half-Blank \n",
    "size_sectors = 1 / (n_sectors + ratio_space * n_sectors )\n",
    "size_blank = ratio_space * size_sectors\n",
    "\n",
    "# For each sector, multiple categories displayed\n",
    "size_categories = size_sectors / n_categories\n",
    "\n",
    "# Amount of space between bars and labels \n",
    "y_text_offset = 0.15\n",
    "y_label_categories = 0.05\n",
    "y_label_sector = 0.60"
   ]
  },
  {
   "cell_type": "code",
   "execution_count": null,
   "metadata": {
    "ExecuteTime": {
     "start_time": "2024-05-10T13:27:29.547586Z"
    }
   },
   "outputs": [],
   "source": [
    "## Select the country \n",
    "country = \"EUR\"\n",
    "s_country = series.xs(country, level='Country')\n",
    "\n",
    "## The ax: we plot a single black line from 0 to 1 \n",
    "\n",
    "# Get the textwidth from latex with \\the\\textwidth (or \\showthe\\textwidth).\n",
    "fig, ax = plt.subplots(figsize=(202/72, 200/72))\n",
    "ax.spines['left'].set_visible(False)  # hide the left spine\n",
    "ax.spines['right'].set_visible(False)  # hide the right spine\n",
    "ax.spines['bottom'].set_visible(False)  # hide the top spine\n",
    "ax.spines['top'].set_visible(False)  # hide the top spine\n",
    "ax.yaxis.set_visible(False)  # hide the y-axis\n",
    "ax.xaxis.set_visible(False)  # hide the y-axis\n",
    "\n",
    "# Some tricks in order to avoid the axis to change position between the two countries\n",
    "ax.plot([0, 1], [0, 0], color='black')\n",
    "ax.plot([0, 0], [0, min_value], color=\"white\", alpha=0)\n",
    "plt.ylim(min_value, 0.5)\n",
    "plt.xlim(0, 1)\n",
    "plt.subplots_adjust(left=0, right=1, top=0.9, bottom=0.1)\n",
    "\n",
    "## Select the palette \n",
    "\n",
    "# A color-blind friendly palette\n",
    "palette = ['#377eb8', '#ff7f00', '#4daf4a', '#f781bf', '#a65628', '#984ea3', '#999999', '#e41a1c', '#dede00']\n",
    "# Default palette\n",
    "# palette = cm.tab10(9)\n",
    "\n",
    "colors = {\n",
    "    k: v for k, v in zip(\n",
    "        s_country.index.get_level_values(\"Category\").unique(), \n",
    "        palette)}\n",
    "\n",
    "# Some keyword so that s in ax.text(x, y, s) is aligned around (x, y)\n",
    "text_align = {\n",
    "    \"horizontalalignment\": \"center\", \"verticalalignment\": \"center\"\n",
    "}\n",
    "\n",
    "# We start with a blank offset \n",
    "current_x = size_blank / 2 \n",
    "\n",
    "# For each sector... \n",
    "for ind_sector, sector in enumerate(s_country.index.get_level_values(\"Sector\").unique()):\n",
    "    # Restrict the dataframe \n",
    "    s_sector = s_country.xs(sector, level=\"Sector\")\n",
    "    # Print the name of the sector: \n",
    "    # Leave half a blank, then multiple sectors, then multiple full blanks \n",
    "    ax.text(size_blank * (ind_sector + 0.5) + size_sectors * (ind_sector + 0.5), y_label_sector, sector, \n",
    "            **text_align, fontsize=9)\n",
    "    \n",
    "    # For each category...\n",
    "    for category in s_sector.index.get_level_values(\"Category\").unique():\n",
    "        # This is the value we plot \n",
    "        current_y = s_sector.loc[category]\n",
    "        plt.bar(current_x, current_y, width=size_categories, color=colors[category], align=\"edge\")\n",
    "        \n",
    "        # This is the label \n",
    "        ax.text(current_x + size_categories / 2, y_label_categories, category, \n",
    "                horizontalalignment=\"center\", verticalalignment=\"bottom\", rotation=45, fontsize=7)\n",
    "        # This is the value, below the bar\n",
    "        ax.text(current_x + size_categories / 2, current_y - y_text_offset, f\"{current_y:.2f}%\", \n",
    "                **text_align, fontsize=8, rotation=0)\n",
    "        # Next plot will be a bit further\n",
    "        current_x += size_categories\n",
    "    \n",
    "    # We skip a blank \n",
    "    current_x += size_blank\n",
    "\n",
    "# fig.savefig(f\"output_{country}.pdf\", transparent=True, bbox_inches=Bbox([[0, min_value], [1, 0.5]]), pad_inches=0)\n",
    "fig.savefig(f\"graphs/output_{country}_032024.pdf\", transparent=True, bbox_inches=None, pad_inches=0)\n"
   ]
  },
  {
   "cell_type": "markdown",
   "source": [
    "## Sensitivity"
   ],
   "metadata": {
    "collapsed": false
   }
  },
  {
   "cell_type": "code",
   "execution_count": null,
   "outputs": [],
   "source": [
    "# Generate random data\n",
    "index = pd.MultiIndex.from_tuples(\n",
    "    product((\"France\", \"USA\"), (\"Transport\", \"Transport + train\"), (\"D\", \"D+P\", \"D+P+S \")),\n",
    "    names=['Country', 'Sector', 'Category']\n",
    ")\n",
    "\n",
    "np.random.seed(0)  # for reproducibility\n",
    "data = [-2.7, -2.57, -2.2, -2.67, -2.5, -2.3, - 1.7, -1.6, -0.7, -1.7, -1.55, -0.8]\n",
    "# data = -np.random.rand(len(index))\n",
    "series = pd.Series(data, index=index)\n",
    "\n",
    "n_countries = series.index.get_level_values(\"Country\").nunique()\n",
    "n_sectors = series.index.get_level_values(\"Sector\").nunique()\n",
    "n_categories = series.index.get_level_values(\"Category\").nunique()\n",
    "min_value = series.min()\n",
    "\n",
    "# Some sizes in the plot, see figure for details\n",
    "\n",
    "# Size of blank space over size of ensemble of categories\n",
    "ratio_space = 0.1\n",
    "\n",
    "# Half-Blank Sector1 Blank Sector2 ... SectorN Half-Blank\n",
    "size_sectors = 1 / (n_sectors + ratio_space * n_sectors )\n",
    "size_blank = ratio_space * size_sectors\n",
    "\n",
    "# For each sector, multiple categories displayed\n",
    "size_categories = size_sectors / n_categories\n",
    "\n",
    "# Amount of space between bars and labels\n",
    "y_text_offset = 0.15\n",
    "y_label_categories = 0.15\n",
    "y_label_sector = 0.50\n",
    "\n",
    "## Select the country\n",
    "country = \"USA\"\n",
    "s_country = series.xs(country, level='Country')\n",
    "\n",
    "## The ax: we plot a single black line from 0 to 1\n",
    "\n",
    "# Get the textwidth from latex with \\the\\textwidth (or \\showthe\\textwidth).\n",
    "fig, ax = plt.subplots(figsize=(202/72, 200/72))\n",
    "ax.spines['left'].set_visible(False)  # hide the left spine\n",
    "ax.spines['right'].set_visible(False)  # hide the right spine\n",
    "ax.spines['bottom'].set_visible(False)  # hide the top spine\n",
    "ax.spines['top'].set_visible(False)  # hide the top spine\n",
    "ax.yaxis.set_visible(False)  # hide the y-axis\n",
    "ax.xaxis.set_visible(False)  # hide the y-axis\n",
    "\n",
    "# Some tricks in order to avoid the axis to change position between the two countries\n",
    "ax.plot([0, 1], [0, 0], color='black')\n",
    "ax.plot([0, 0], [0, min_value], color=\"white\", alpha=0)\n",
    "plt.ylim(min_value, 0.5)\n",
    "plt.xlim(0, 1)\n",
    "plt.subplots_adjust(left=0, right=1, top=0.9, bottom=0.1)\n",
    "\n",
    "## Select the palette\n",
    "\n",
    "# A color-blind friendly palette\n",
    "palette = ['#377eb8', '#ff7f00', '#4daf4a', '#f781bf', '#a65628', '#984ea3', '#999999', '#e41a1c', '#dede00']\n",
    "# Default palette\n",
    "# palette = cm.tab10(9)\n",
    "\n",
    "colors = {\n",
    "    k: v for k, v in zip(\n",
    "        s_country.index.get_level_values(\"Category\").unique(),\n",
    "        palette)}\n",
    "\n",
    "# Some keyword so that s in ax.text(x, y, s) is aligned around (x, y)\n",
    "text_align = {\n",
    "    \"horizontalalignment\": \"center\", \"verticalalignment\": \"center\"\n",
    "}\n",
    "\n",
    "# We start with a blank offset\n",
    "current_x = size_blank / 2\n",
    "\n",
    "# For each sector...\n",
    "for ind_sector, sector in enumerate(s_country.index.get_level_values(\"Sector\").unique()):\n",
    "    # Restrict the dataframe\n",
    "    s_sector = s_country.xs(sector, level=\"Sector\")\n",
    "    # Print the name of the sector:\n",
    "    # Leave half a blank, then multiple sectors, then multiple full blanks\n",
    "    ax.text(size_blank * (ind_sector + 0.5) + size_sectors * (ind_sector + 0.5), y_label_sector, sector,\n",
    "            **text_align, fontsize=9)\n",
    "\n",
    "    # For each category...\n",
    "    for category in s_sector.index.get_level_values(\"Category\").unique():\n",
    "        # This is the value we plot\n",
    "        current_y = s_sector.loc[category]\n",
    "        plt.bar(current_x, current_y, width=size_categories, color=colors[category], align=\"edge\")\n",
    "\n",
    "        # This is the label\n",
    "        ax.text(current_x + size_categories / 2, y_label_categories, category,\n",
    "                horizontalalignment=\"center\", verticalalignment=\"bottom\", rotation=0, fontsize=7)\n",
    "        # This is the value, below the bar\n",
    "        ax.text(current_x + size_categories / 2, current_y - y_text_offset, f\"{current_y:.2f}\\\\%\",\n",
    "                **text_align, fontsize=8, rotation=0)\n",
    "        # Next plot will be a bit further\n",
    "        current_x += size_categories\n",
    "\n",
    "    # We skip a blank\n",
    "    current_x += size_blank\n",
    "\n",
    "# fig.savefig(f\"output_{country}.pdf\", transparent=True, bbox_inches=Bbox([[0, min_value], [1, 0.5]]), pad_inches=0)\n",
    "fig.savefig(f\"output_sensitivity_{country}.pdf\", transparent=True, bbox_inches=None, pad_inches=0)\n"
   ],
   "metadata": {
    "collapsed": false,
    "ExecuteTime": {
     "start_time": "2024-05-10T13:27:29.548351Z"
    }
   }
  },
  {
   "cell_type": "code",
   "execution_count": null,
   "outputs": [],
   "source": [
    "# Generate random data\n",
    "index = pd.MultiIndex.from_tuples(\n",
    "    product((\"France\", \"USA\"), (\"Transport\", \"Transport + train\"), (\"D\", \"D+P\", \"D+P+S \")),\n",
    "    names=['Country', 'Sector', 'Category']\n",
    ")\n",
    "\n",
    "np.random.seed(0)  # for reproducibility\n",
    "data = [-2.7, -2.57, -2.2, -2.67, -2.5, -2.3, - 1.7, -1.6, -0.7, -1.7, -1.55, -0.8]\n",
    "# data = -np.random.rand(len(index))\n",
    "series = pd.Series(data, index=index)\n",
    "\n",
    "n_countries = series.index.get_level_values(\"Country\").nunique()\n",
    "n_sectors = series.index.get_level_values(\"Sector\").nunique()\n",
    "n_categories = series.index.get_level_values(\"Category\").nunique()\n",
    "min_value = series.min()\n",
    "\n",
    "# Some sizes in the plot, see figure for details\n",
    "\n",
    "# Size of blank space over size of ensemble of categories\n",
    "ratio_space = 0.3\n",
    "\n",
    "# Half-Blank Sector1 Blank Sector2 ... SectorN Half-Blank\n",
    "size_sectors = 1 / (n_sectors + ratio_space * n_sectors )\n",
    "size_blank = ratio_space * size_sectors\n",
    "\n",
    "# For each sector, multiple categories displayed\n",
    "size_categories = size_sectors / n_categories\n",
    "\n",
    "# Amount of space between bars and labels\n",
    "y_text_offset = 0.15\n",
    "y_label_categories = 0.15\n",
    "y_label_sector = 0.40"
   ],
   "metadata": {
    "collapsed": false,
    "ExecuteTime": {
     "start_time": "2024-05-10T13:27:29.549260Z"
    }
   }
  },
  {
   "cell_type": "code",
   "execution_count": null,
   "outputs": [],
   "source": [
    "## Select the country\n",
    "s_country = series.xs('France', level='Country')\n",
    "\n",
    "## The ax: we plot a single black line from 0 to 1\n",
    "\n",
    "# Get the textwidth from latex with \\the\\textwidth (or \\showthe\\textwidth).\n",
    "fig, ax = plt.subplots(figsize=(450/72, 200/72))\n",
    "ax.spines['left'].set_visible(False)  # hide the left spine\n",
    "ax.spines['right'].set_visible(False)  # hide the right spine\n",
    "ax.spines['bottom'].set_visible(False)  # hide the top spine\n",
    "ax.spines['top'].set_visible(False)  # hide the top spine\n",
    "ax.yaxis.set_visible(False)  # hide the y-axis\n",
    "ax.xaxis.set_visible(False)  # hide the y-axis\n",
    "ax.plot([0, 1], [0, 0], color='black')\n",
    "\n",
    "## Select the palette\n",
    "\n",
    "# A color-blind friendly palette\n",
    "palette = ['#377eb8', '#ff7f00', '#4daf4a', '#f781bf', '#a65628', '#984ea3', '#999999', '#e41a1c', '#dede00']\n",
    "# Default palette\n",
    "# palette = cm.tab10(9)\n",
    "\n",
    "colors = {\n",
    "    k: v for k, v in zip(\n",
    "        s_country.index.get_level_values(\"Category\").unique(),\n",
    "        palette)}\n",
    "\n",
    "# Some keyword so that s in ax.text(x, y, s) is aligned around (x, y)\n",
    "text_align = {\n",
    "    \"horizontalalignment\": \"center\", \"verticalalignment\": \"center\"\n",
    "}\n",
    "\n",
    "# We start with a blank offset\n",
    "current_x = size_blank / 2\n",
    "\n",
    "# For each sector...\n",
    "for ind_sector, sector in enumerate(s_country.index.get_level_values(\"Sector\").unique()):\n",
    "    # Restrict the dataframe\n",
    "    s_sector = s_country.xs(sector, level=\"Sector\")\n",
    "    # Print the name of the sector:\n",
    "    # Leave half a blank, then multiple sectors, then multiple full blanks\n",
    "    ax.text(size_blank * (ind_sector + 0.5) + size_sectors * (ind_sector + 0.5), y_label_sector, sector,\n",
    "            **text_align, fontsize=12)\n",
    "\n",
    "    # For each category...\n",
    "    for category in s_sector.index.get_level_values(\"Category\").unique():\n",
    "        # This is the value we plot\n",
    "        current_y = s_sector.loc[category]\n",
    "        plt.bar(current_x, current_y, width=size_categories, color=colors[category], align=\"edge\")\n",
    "\n",
    "        # This is the label\n",
    "        ax.text(current_x + size_categories / 2, y_label_categories, category,\n",
    "                **text_align)\n",
    "        # This is the value, below the bar\n",
    "        ax.text(current_x + size_categories / 2, current_y - y_text_offset, f\"{current_y:.2f}\\\\%\", **text_align)\n",
    "        # Next plot will be a bit further\n",
    "        current_x += size_categories\n",
    "\n",
    "    # We skip a blank\n",
    "    current_x += size_blank\n",
    "\n",
    "fig.savefig(f\"output_sensitivity.pdf\", transparent=True, bbox_inches='tight', pad_inches=0)\n"
   ],
   "metadata": {
    "collapsed": false,
    "ExecuteTime": {
     "start_time": "2024-05-10T13:27:29.550143Z"
    }
   }
  },
  {
   "cell_type": "code",
   "execution_count": null,
   "outputs": [],
   "source": [
    "pd.read_excel('outputs/emissions_absolute_df.xlsx', index_col=[0,1,2])"
   ],
   "metadata": {
    "collapsed": false,
    "ExecuteTime": {
     "start_time": "2024-05-10T13:27:29.551118Z"
    }
   }
  },
  {
   "cell_type": "markdown",
   "source": [
    "## Emissions"
   ],
   "metadata": {
    "collapsed": false
   }
  },
  {
   "cell_type": "code",
   "outputs": [],
   "source": [
    "series = pd.read_excel('outputs/emissions_absolute_df.xlsx', index_col=[0,1,2,3]).squeeze()\n",
    "series = series / 1e3\n",
    "\n",
    "series \n",
    "\n",
    "min_value, max_value = series.min(), series.max()\n",
    "if max_value < 0:\n",
    "    max_value = 0.1\n",
    "\n",
    "n_countries = series.index.get_level_values(\"Country\").nunique()\n",
    "n_categories = series.index.get_level_values(\"Category\").nunique()\n",
    "min_value = series.min()\n",
    "\n",
    "s = 'Mobility'\n",
    "series = series.xs(s, level='Sector')\n",
    "series = series.loc[series.index.get_level_values('Effect') != 'IO']   # we do not display absolute values for IO\n",
    "n_sectors = series.index.get_level_values(\"Effect\").nunique()"
   ],
   "metadata": {
    "collapsed": false,
    "ExecuteTime": {
     "start_time": "2024-05-10T13:27:29.552163Z"
    }
   },
   "execution_count": null
  },
  {
   "cell_type": "code",
   "outputs": [],
   "source": [
    "# Some sizes in the plot, see figure for details \n",
    "\n",
    "# Size of blank space over size of ensemble of categories\n",
    "ratio_space = 0.2\n",
    "\n",
    "# Half-Blank Sector1 Blank Sector2 ... SectorN Half-Blank \n",
    "size_sectors = 1 / (n_sectors + ratio_space * n_sectors )\n",
    "size_blank = ratio_space * size_sectors\n",
    "\n",
    "# For each sector, multiple categories displayed\n",
    "size_categories = size_sectors / n_categories\n",
    "\n",
    "# Amount of space between bars and labels \n",
    "y_text_offset = 10\n",
    "y_label_categories = 10\n",
    "y_label_sector_offset = 30"
   ],
   "metadata": {
    "collapsed": false,
    "ExecuteTime": {
     "start_time": "2024-05-10T13:27:29.553134Z"
    }
   },
   "execution_count": null
  },
  {
   "cell_type": "code",
   "outputs": [],
   "source": [
    "## Select the country \n",
    "country = \"EUR\"\n",
    "s_country = series.xs(country, level='Country')\n",
    "\n",
    "## The ax: we plot a single black line from 0 to 1 \n",
    "\n",
    "# Get the textwidth from latex with \\the\\textwidth (or \\showthe\\textwidth).\n",
    "fig, ax = plt.subplots(figsize=(202/72, 200/72))\n",
    "ax.spines['left'].set_visible(False)  # hide the left spine\n",
    "ax.spines['right'].set_visible(False)  # hide the right spine\n",
    "ax.spines['bottom'].set_visible(False)  # hide the top spine\n",
    "ax.spines['top'].set_visible(False)  # hide the top spine\n",
    "ax.yaxis.set_visible(False)  # hide the y-axis\n",
    "ax.xaxis.set_visible(False)  # hide the y-axis\n",
    "\n",
    "# Some tricks in order to avoid the axis to change position between the two countries\n",
    "ax.plot([0, 1], [0, 0], color='black')\n",
    "# ax.plot([0, 0], [0, min_value], color=\"white\", alpha=0)\n",
    "plt.ylim(min_value - y_label_sector_offset, max_value)\n",
    "plt.xlim(0, 1)\n",
    "plt.axhline(y=0, color='black', linestyle='-')\n",
    "# plt.subplots_adjust(left=0, right=1, top=0.9, bottom=0.1)\n",
    "\n",
    "## Select the palette \n",
    "\n",
    "# A color-blind friendly palette\n",
    "palette = ['#377eb8', '#ff7f00', '#4daf4a', '#f781bf', '#a65628', '#984ea3', '#999999', '#e41a1c', '#dede00']\n",
    "# Default palette\n",
    "# palette = cm.tab10(9)\n",
    "\n",
    "colors = {\n",
    "    k: v for k, v in zip(\n",
    "        s_country.index.get_level_values(\"Category\").unique(), \n",
    "        palette)}\n",
    "\n",
    "# Some keyword so that s in ax.text(x, y, s) is aligned around (x, y)\n",
    "text_align = {\n",
    "    \"horizontalalignment\": \"center\", \"verticalalignment\": \"center\"\n",
    "}\n",
    "\n",
    "# We start with a blank offset \n",
    "current_x = size_blank / 2 \n",
    "\n",
    "# For each sector... \n",
    "for ind_sector, sector in enumerate(s_country.index.get_level_values(\"Effect\").unique()):\n",
    "    # Restrict the dataframe \n",
    "    s_sector = s_country.xs(sector, level=\"Effect\")\n",
    "    # Print the name of the sector: \n",
    "    # Leave half a blank, then multiple sectors, then multiple full blanks \n",
    "    ax.text(size_blank * (ind_sector + 0.5) + size_sectors * (ind_sector + 0.5), min_value - y_label_sector_offset, sector, \n",
    "            **text_align, fontsize=9)\n",
    "    \n",
    "    # For each category...\n",
    "    for category in s_sector.index.get_level_values(\"Category\").unique():\n",
    "        # This is the value we plot \n",
    "        current_y = s_sector.loc[category]\n",
    "        plt.bar(current_x, current_y, width=size_categories, color=colors[category], align=\"edge\")\n",
    "        \n",
    "        # This is the label \n",
    "        ax.text(current_x + size_categories / 2, - y_label_categories * np.sign(current_y), category, \n",
    "                horizontalalignment=\"center\", verticalalignment=\"center\", rotation=0, fontsize=7)\n",
    "        # This is the value, below the bar\n",
    "        ax.text(current_x + size_categories / 2, current_y + np.sign(current_y) * y_text_offset, f\"{current_y:.1f}\", \n",
    "                **text_align, fontsize=8, rotation=0)\n",
    "        # Next plot will be a bit further\n",
    "        current_x += size_categories\n",
    "    \n",
    "    # We skip a blank \n",
    "    current_x += size_blank\n",
    "\n",
    "# fig.savefig(f\"output_emissions_{country}_{s}.pdf\", transparent=True, bbox_inches=Bbox([[0, min_value], [1, max_value]]), pad_inches=0)\n",
    "d = datetime.datetime.now().strftime(\"%m%d%H%M%S\")\n",
    "fig.savefig(f\"graphs/output_emissions_{country}_{s}_{d}.pdf\", transparent=True, bbox_inches=None, pad_inches=1)\n"
   ],
   "metadata": {
    "collapsed": false,
    "ExecuteTime": {
     "start_time": "2024-05-10T13:27:29.553903Z"
    }
   },
   "execution_count": null
  },
  {
   "cell_type": "code",
   "outputs": [],
   "source": [],
   "metadata": {
    "collapsed": false,
    "ExecuteTime": {
     "start_time": "2024-05-10T13:27:29.554688Z"
    }
   }
  }
 ],
 "metadata": {
  "kernelspec": {
   "display_name": "celia",
   "language": "python",
   "name": "python3"
  },
  "language_info": {
   "codemirror_mode": {
    "name": "ipython",
    "version": 3
   },
   "file_extension": ".py",
   "mimetype": "text/x-python",
   "name": "python",
   "nbconvert_exporter": "python",
   "pygments_lexer": "ipython3",
   "version": "3.12.1"
  }
 },
 "nbformat": 4,
 "nbformat_minor": 2
}
