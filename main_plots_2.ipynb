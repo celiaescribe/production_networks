{
 "cells": [
  {
   "cell_type": "code",
   "execution_count": 1,
   "metadata": {
    "ExecuteTime": {
     "end_time": "2024-01-30T08:21:05.646600Z",
     "start_time": "2024-01-30T08:21:05.077388Z"
    }
   },
   "outputs": [
    {
     "name": "stderr",
     "output_type": "stream",
     "text": [
      "/var/folders/1c/f0py8khj3bx759_g1q03n6fc0000gn/T/ipykernel_30868/1669198823.py:3: DeprecationWarning: \n",
      "Pyarrow will become a required dependency of pandas in the next major release of pandas (pandas 3.0),\n",
      "(to allow more performant data types, such as the Arrow string type, and better interoperability with other libraries)\n",
      "but was not found to be installed on your system.\n",
      "If this would cause problems for you,\n",
      "please provide us feedback at https://github.com/pandas-dev/pandas/issues/54466\n",
      "        \n",
      "  import pandas as pd\n"
     ]
    }
   ],
   "source": [
    "import matplotlib.pyplot as plt\n",
    "import numpy as np\n",
    "import pandas as pd\n",
    "from itertools import product\n",
    "import matplotlib.cm as cm\n",
    "from matplotlib.transforms import Bbox"
   ]
  },
  {
   "cell_type": "markdown",
   "source": [
    "# Data"
   ],
   "metadata": {
    "collapsed": false
   }
  },
  {
   "cell_type": "code",
   "execution_count": 2,
   "metadata": {
    "ExecuteTime": {
     "end_time": "2024-01-30T08:21:11.056539Z",
     "start_time": "2024-01-30T08:21:11.053034Z"
    }
   },
   "outputs": [
    {
     "data": {
      "text/plain": "Country  Sector    Category\nFrance   Food      D          -0.90\n                   D+P        -1.10\n                   D+P+S      -0.50\n         Mobility  D          -2.60\n                   D+P        -2.50\n                   D+P+S      -2.30\nUSA      Food      D          -0.52\n                   D+P        -0.79\n                   D+P+S      -0.23\n         Mobility  D          -1.70\n                   D+P        -1.30\n                   D+P+S      -0.90\ndtype: float64"
     },
     "execution_count": 2,
     "metadata": {},
     "output_type": "execute_result"
    }
   ],
   "source": [
    "# Generate random data\n",
    "index = pd.MultiIndex.from_tuples(\n",
    "    product((\"France\", \"USA\"), (\"Food\", \"Mobility\"), (\"D\", \"D+P\", \"D+P+S \")),\n",
    "    names=['Country', 'Sector', 'Category']\n",
    ")\n",
    "\n",
    "np.random.seed(0)  # for reproducibility\n",
    "data = [-0.9, -1.1, -0.5, -2.6, -2.5, -2.3, - 0.52, -0.79, -0.23, -1.7, -1.3, -0.9]\n",
    "# data = -np.random.rand(len(index))\n",
    "series = pd.Series(data, index=index)\n",
    "\n",
    "series"
   ]
  },
  {
   "cell_type": "code",
   "execution_count": 3,
   "metadata": {
    "ExecuteTime": {
     "end_time": "2024-01-30T08:21:13.113368Z",
     "start_time": "2024-01-30T08:21:13.107677Z"
    }
   },
   "outputs": [],
   "source": [
    "n_countries = series.index.get_level_values(\"Country\").nunique()\n",
    "n_sectors = series.index.get_level_values(\"Sector\").nunique()\n",
    "n_categories = series.index.get_level_values(\"Category\").nunique()\n",
    "min_value = series.min()"
   ]
  },
  {
   "cell_type": "code",
   "execution_count": 4,
   "metadata": {
    "ExecuteTime": {
     "end_time": "2024-01-30T08:21:13.533767Z",
     "start_time": "2024-01-30T08:21:13.529643Z"
    }
   },
   "outputs": [
    {
     "data": {
      "text/plain": "-2.6"
     },
     "execution_count": 4,
     "metadata": {},
     "output_type": "execute_result"
    }
   ],
   "source": [
    "min_value"
   ]
  },
  {
   "cell_type": "code",
   "execution_count": 5,
   "metadata": {
    "ExecuteTime": {
     "end_time": "2024-01-30T08:21:14.868586Z",
     "start_time": "2024-01-30T08:21:14.864124Z"
    }
   },
   "outputs": [],
   "source": [
    "# Optional preamble, for latex-looking figures \n",
    "\n",
    "import os\n",
    "# Get path with the command `which latex`\n",
    "os.environ[\"PATH\"] = \"/Library/TeX/texbin:$PATH\"\n",
    "plt.rcParams.update({\n",
    "    # Use LaTeX to write all text\n",
    "    \"text.usetex\": True,\n",
    "    \"font.family\": \"serif\",\n",
    "    \"font.sans-serif\": [\"Helvetica\"],\n",
    "    # To have access to AMS maths commands\n",
    "    'text.latex.preamble': r'\\usepackage{amsmath}',\n",
    "    # Use 10pt font in plots, to match 10pt font in document\n",
    "    \"axes.labelsize\": 10,\n",
    "    \"font.size\": 8,\n",
    "    # Make the legend/label fonts a little smaller\n",
    "    \"legend.fontsize\": 8,\n",
    "    \"xtick.labelsize\": 8,\n",
    "    \"ytick.labelsize\": 8\n",
    "})"
   ]
  },
  {
   "cell_type": "markdown",
   "metadata": {},
   "source": [
    "# 1 fig per column"
   ]
  },
  {
   "cell_type": "code",
   "execution_count": 6,
   "metadata": {
    "ExecuteTime": {
     "end_time": "2024-01-30T08:21:18.167931Z",
     "start_time": "2024-01-30T08:21:18.161140Z"
    }
   },
   "outputs": [],
   "source": [
    "# Some sizes in the plot, see figure for details \n",
    "\n",
    "# Size of blank space over size of ensemble of categories\n",
    "ratio_space = 0.3\n",
    "\n",
    "# Half-Blank Sector1 Blank Sector2 ... SectorN Half-Blank \n",
    "size_sectors = 1 / (n_sectors + ratio_space * n_sectors )\n",
    "size_blank = ratio_space * size_sectors\n",
    "\n",
    "# For each sector, multiple categories displayed\n",
    "size_categories = size_sectors / n_categories\n",
    "\n",
    "# Amount of space between bars and labels \n",
    "y_text_offset = 0.15\n",
    "y_label_categories = 0.15\n",
    "y_label_sector = 0.40"
   ]
  },
  {
   "cell_type": "code",
   "execution_count": 43,
   "metadata": {
    "ExecuteTime": {
     "end_time": "2024-01-29T20:40:14.464936Z",
     "start_time": "2024-01-29T20:40:11.358267Z"
    }
   },
   "outputs": [
    {
     "data": {
      "image/png": "[encoded data removed]",
      "text/plain": [
       "<Figure size 625x277.778 with 1 Axes>"
      ]
     },
     "metadata": {},
     "output_type": "display_data"
    }
   ],
   "source": [
    "## Select the country \n",
    "s_country = series.xs('France', level='Country')\n",
    "\n",
    "## The ax: we plot a single black line from 0 to 1 \n",
    "\n",
    "# Get the textwidth from latex with \\the\\textwidth (or \\showthe\\textwidth).\n",
    "fig, ax = plt.subplots(figsize=(450/72, 200/72))\n",
    "ax.spines['left'].set_visible(False)  # hide the left spine\n",
    "ax.spines['right'].set_visible(False)  # hide the right spine\n",
    "ax.spines['bottom'].set_visible(False)  # hide the top spine\n",
    "ax.spines['top'].set_visible(False)  # hide the top spine\n",
    "ax.yaxis.set_visible(False)  # hide the y-axis\n",
    "ax.xaxis.set_visible(False)  # hide the y-axis\n",
    "ax.plot([0, 1], [0, 0], color='black')\n",
    "\n",
    "## Select the palette \n",
    "\n",
    "# A color-blind friendly palette\n",
    "palette = ['#377eb8', '#ff7f00', '#4daf4a', '#f781bf', '#a65628', '#984ea3', '#999999', '#e41a1c', '#dede00']\n",
    "# Default palette\n",
    "# palette = cm.tab10(9)\n",
    "\n",
    "colors = {\n",
    "    k: v for k, v in zip(\n",
    "        s_country.index.get_level_values(\"Category\").unique(), \n",
    "        palette)}\n",
    "\n",
    "# Some keyword so that s in ax.text(x, y, s) is aligned around (x, y)\n",
    "text_align = {\n",
    "    \"horizontalalignment\": \"center\", \"verticalalignment\": \"center\"\n",
    "}\n",
    "\n",
    "# We start with a blank offset \n",
    "current_x = size_blank / 2 \n",
    "\n",
    "# For each sector... \n",
    "for ind_sector, sector in enumerate(s_country.index.get_level_values(\"Sector\").unique()):\n",
    "    # Restrict the dataframe \n",
    "    s_sector = s_country.xs(sector, level=\"Sector\")\n",
    "    # Print the name of the sector: \n",
    "    # Leave half a blank, then multiple sectors, then multiple full blanks \n",
    "    ax.text(size_blank * (ind_sector + 0.5) + size_sectors * (ind_sector + 0.5), y_label_sector, sector, \n",
    "            **text_align, fontsize=12)\n",
    "    \n",
    "    # For each category...\n",
    "    for category in s_sector.index.get_level_values(\"Category\").unique():\n",
    "        # This is the value we plot \n",
    "        current_y = s_sector.loc[category]\n",
    "        plt.bar(current_x, current_y, width=size_categories, color=colors[category], align=\"edge\")\n",
    "        \n",
    "        # This is the label \n",
    "        ax.text(current_x + size_categories / 2, y_label_categories, category, \n",
    "                **text_align)\n",
    "        # This is the value, below the bar\n",
    "        ax.text(current_x + size_categories / 2, current_y - y_text_offset, f\"{current_y:.2f}\\\\%\", **text_align)\n",
    "        # Next plot will be a bit further\n",
    "        current_x += size_categories\n",
    "    \n",
    "    # We skip a blank \n",
    "    current_x += size_blank\n",
    "\n",
    "fig.savefig(f\"output.pdf\", transparent=True, bbox_inches='tight', pad_inches=0)\n"
   ]
  },
  {
   "cell_type": "markdown",
   "metadata": {},
   "source": [
    "# 2 figs side by side"
   ]
  },
  {
   "cell_type": "code",
   "execution_count": 7,
   "metadata": {
    "ExecuteTime": {
     "end_time": "2024-01-30T08:21:31.426131Z",
     "start_time": "2024-01-30T08:21:31.423770Z"
    }
   },
   "outputs": [],
   "source": [
    "# Some sizes in the plot, see figure for details \n",
    "\n",
    "# Size of blank space over size of ensemble of categories\n",
    "ratio_space = 0.1\n",
    "\n",
    "# Half-Blank Sector1 Blank Sector2 ... SectorN Half-Blank \n",
    "size_sectors = 1 / (n_sectors + ratio_space * n_sectors )\n",
    "size_blank = ratio_space * size_sectors\n",
    "\n",
    "# For each sector, multiple categories displayed\n",
    "size_categories = size_sectors / n_categories\n",
    "\n",
    "# Amount of space between bars and labels \n",
    "y_text_offset = 0.15\n",
    "y_label_categories = 0.15\n",
    "y_label_sector = 0.50"
   ]
  },
  {
   "cell_type": "code",
   "execution_count": 9,
   "metadata": {
    "ExecuteTime": {
     "end_time": "2024-01-30T08:21:55.817611Z",
     "start_time": "2024-01-30T08:21:54.097419Z"
    }
   },
   "outputs": [
    {
     "data": {
      "text/plain": "<Figure size 280.556x277.778 with 1 Axes>",
      "image/png": "[encoded data removed]"
     },
     "metadata": {},
     "output_type": "display_data"
    }
   ],
   "source": [
    "## Select the country \n",
    "country = \"France\"\n",
    "s_country = series.xs(country, level='Country')\n",
    "\n",
    "## The ax: we plot a single black line from 0 to 1 \n",
    "\n",
    "# Get the textwidth from latex with \\the\\textwidth (or \\showthe\\textwidth).\n",
    "fig, ax = plt.subplots(figsize=(202/72, 200/72))\n",
    "ax.spines['left'].set_visible(False)  # hide the left spine\n",
    "ax.spines['right'].set_visible(False)  # hide the right spine\n",
    "ax.spines['bottom'].set_visible(False)  # hide the top spine\n",
    "ax.spines['top'].set_visible(False)  # hide the top spine\n",
    "ax.yaxis.set_visible(False)  # hide the y-axis\n",
    "ax.xaxis.set_visible(False)  # hide the y-axis\n",
    "\n",
    "# Some tricks in order to avoid the axis to change position between the two countries\n",
    "ax.plot([0, 1], [0, 0], color='black')\n",
    "ax.plot([0, 0], [0, min_value], color=\"white\", alpha=0)\n",
    "plt.ylim(min_value, 0.5)\n",
    "plt.xlim(0, 1)\n",
    "plt.subplots_adjust(left=0, right=1, top=0.9, bottom=0.1)\n",
    "\n",
    "## Select the palette \n",
    "\n",
    "# A color-blind friendly palette\n",
    "palette = ['#377eb8', '#ff7f00', '#4daf4a', '#f781bf', '#a65628', '#984ea3', '#999999', '#e41a1c', '#dede00']\n",
    "# Default palette\n",
    "# palette = cm.tab10(9)\n",
    "\n",
    "colors = {\n",
    "    k: v for k, v in zip(\n",
    "        s_country.index.get_level_values(\"Category\").unique(), \n",
    "        palette)}\n",
    "\n",
    "# Some keyword so that s in ax.text(x, y, s) is aligned around (x, y)\n",
    "text_align = {\n",
    "    \"horizontalalignment\": \"center\", \"verticalalignment\": \"center\"\n",
    "}\n",
    "\n",
    "# We start with a blank offset \n",
    "current_x = size_blank / 2 \n",
    "\n",
    "# For each sector... \n",
    "for ind_sector, sector in enumerate(s_country.index.get_level_values(\"Sector\").unique()):\n",
    "    # Restrict the dataframe \n",
    "    s_sector = s_country.xs(sector, level=\"Sector\")\n",
    "    # Print the name of the sector: \n",
    "    # Leave half a blank, then multiple sectors, then multiple full blanks \n",
    "    ax.text(size_blank * (ind_sector + 0.5) + size_sectors * (ind_sector + 0.5), y_label_sector, sector, \n",
    "            **text_align, fontsize=9)\n",
    "    \n",
    "    # For each category...\n",
    "    for category in s_sector.index.get_level_values(\"Category\").unique():\n",
    "        # This is the value we plot \n",
    "        current_y = s_sector.loc[category]\n",
    "        plt.bar(current_x, current_y, width=size_categories, color=colors[category], align=\"edge\")\n",
    "        \n",
    "        # This is the label \n",
    "        ax.text(current_x + size_categories / 2, y_label_categories, category, \n",
    "                horizontalalignment=\"center\", verticalalignment=\"bottom\", rotation=0, fontsize=7)\n",
    "        # This is the value, below the bar\n",
    "        ax.text(current_x + size_categories / 2, current_y - y_text_offset, f\"{current_y:.2f}\\\\%\", \n",
    "                **text_align, fontsize=8, rotation=0)\n",
    "        # Next plot will be a bit further\n",
    "        current_x += size_categories\n",
    "    \n",
    "    # We skip a blank \n",
    "    current_x += size_blank\n",
    "\n",
    "# fig.savefig(f\"output_{country}.pdf\", transparent=True, bbox_inches=Bbox([[0, min_value], [1, 0.5]]), pad_inches=0)\n",
    "fig.savefig(f\"output_{country}.pdf\", transparent=True, bbox_inches=None, pad_inches=0)\n"
   ]
  },
  {
   "cell_type": "code",
   "execution_count": null,
   "metadata": {
    "collapsed": false
   },
   "outputs": [],
   "source": []
  },
  {
   "cell_type": "markdown",
   "source": [
    "# Sensitivity"
   ],
   "metadata": {
    "collapsed": false
   }
  },
  {
   "cell_type": "code",
   "execution_count": 13,
   "outputs": [
    {
     "data": {
      "text/plain": "<Figure size 280.556x277.778 with 1 Axes>",
      "image/png": "[encoded data removed]"
     },
     "metadata": {},
     "output_type": "display_data"
    }
   ],
   "source": [
    "# Generate random data\n",
    "index = pd.MultiIndex.from_tuples(\n",
    "    product((\"France\", \"USA\"), (\"Transport\", \"Transport + train\"), (\"D\", \"D+P\", \"D+P+S \")),\n",
    "    names=['Country', 'Sector', 'Category']\n",
    ")\n",
    "\n",
    "np.random.seed(0)  # for reproducibility\n",
    "data = [-2.7, -2.57, -2.2, -2.67, -2.5, -2.3, - 1.7, -1.6, -0.7, -1.7, -1.55, -0.8]\n",
    "# data = -np.random.rand(len(index))\n",
    "series = pd.Series(data, index=index)\n",
    "\n",
    "n_countries = series.index.get_level_values(\"Country\").nunique()\n",
    "n_sectors = series.index.get_level_values(\"Sector\").nunique()\n",
    "n_categories = series.index.get_level_values(\"Category\").nunique()\n",
    "min_value = series.min()\n",
    "\n",
    "# Some sizes in the plot, see figure for details\n",
    "\n",
    "# Size of blank space over size of ensemble of categories\n",
    "ratio_space = 0.1\n",
    "\n",
    "# Half-Blank Sector1 Blank Sector2 ... SectorN Half-Blank\n",
    "size_sectors = 1 / (n_sectors + ratio_space * n_sectors )\n",
    "size_blank = ratio_space * size_sectors\n",
    "\n",
    "# For each sector, multiple categories displayed\n",
    "size_categories = size_sectors / n_categories\n",
    "\n",
    "# Amount of space between bars and labels\n",
    "y_text_offset = 0.15\n",
    "y_label_categories = 0.15\n",
    "y_label_sector = 0.50\n",
    "\n",
    "## Select the country\n",
    "country = \"USA\"\n",
    "s_country = series.xs(country, level='Country')\n",
    "\n",
    "## The ax: we plot a single black line from 0 to 1\n",
    "\n",
    "# Get the textwidth from latex with \\the\\textwidth (or \\showthe\\textwidth).\n",
    "fig, ax = plt.subplots(figsize=(202/72, 200/72))\n",
    "ax.spines['left'].set_visible(False)  # hide the left spine\n",
    "ax.spines['right'].set_visible(False)  # hide the right spine\n",
    "ax.spines['bottom'].set_visible(False)  # hide the top spine\n",
    "ax.spines['top'].set_visible(False)  # hide the top spine\n",
    "ax.yaxis.set_visible(False)  # hide the y-axis\n",
    "ax.xaxis.set_visible(False)  # hide the y-axis\n",
    "\n",
    "# Some tricks in order to avoid the axis to change position between the two countries\n",
    "ax.plot([0, 1], [0, 0], color='black')\n",
    "ax.plot([0, 0], [0, min_value], color=\"white\", alpha=0)\n",
    "plt.ylim(min_value, 0.5)\n",
    "plt.xlim(0, 1)\n",
    "plt.subplots_adjust(left=0, right=1, top=0.9, bottom=0.1)\n",
    "\n",
    "## Select the palette\n",
    "\n",
    "# A color-blind friendly palette\n",
    "palette = ['#377eb8', '#ff7f00', '#4daf4a', '#f781bf', '#a65628', '#984ea3', '#999999', '#e41a1c', '#dede00']\n",
    "# Default palette\n",
    "# palette = cm.tab10(9)\n",
    "\n",
    "colors = {\n",
    "    k: v for k, v in zip(\n",
    "        s_country.index.get_level_values(\"Category\").unique(),\n",
    "        palette)}\n",
    "\n",
    "# Some keyword so that s in ax.text(x, y, s) is aligned around (x, y)\n",
    "text_align = {\n",
    "    \"horizontalalignment\": \"center\", \"verticalalignment\": \"center\"\n",
    "}\n",
    "\n",
    "# We start with a blank offset\n",
    "current_x = size_blank / 2\n",
    "\n",
    "# For each sector...\n",
    "for ind_sector, sector in enumerate(s_country.index.get_level_values(\"Sector\").unique()):\n",
    "    # Restrict the dataframe\n",
    "    s_sector = s_country.xs(sector, level=\"Sector\")\n",
    "    # Print the name of the sector:\n",
    "    # Leave half a blank, then multiple sectors, then multiple full blanks\n",
    "    ax.text(size_blank * (ind_sector + 0.5) + size_sectors * (ind_sector + 0.5), y_label_sector, sector,\n",
    "            **text_align, fontsize=9)\n",
    "\n",
    "    # For each category...\n",
    "    for category in s_sector.index.get_level_values(\"Category\").unique():\n",
    "        # This is the value we plot\n",
    "        current_y = s_sector.loc[category]\n",
    "        plt.bar(current_x, current_y, width=size_categories, color=colors[category], align=\"edge\")\n",
    "\n",
    "        # This is the label\n",
    "        ax.text(current_x + size_categories / 2, y_label_categories, category,\n",
    "                horizontalalignment=\"center\", verticalalignment=\"bottom\", rotation=0, fontsize=7)\n",
    "        # This is the value, below the bar\n",
    "        ax.text(current_x + size_categories / 2, current_y - y_text_offset, f\"{current_y:.2f}\\\\%\",\n",
    "                **text_align, fontsize=8, rotation=0)\n",
    "        # Next plot will be a bit further\n",
    "        current_x += size_categories\n",
    "\n",
    "    # We skip a blank\n",
    "    current_x += size_blank\n",
    "\n",
    "# fig.savefig(f\"output_{country}.pdf\", transparent=True, bbox_inches=Bbox([[0, min_value], [1, 0.5]]), pad_inches=0)\n",
    "fig.savefig(f\"output_sensitivity_{country}.pdf\", transparent=True, bbox_inches=None, pad_inches=0)\n"
   ],
   "metadata": {
    "collapsed": false,
    "ExecuteTime": {
     "end_time": "2024-01-31T08:50:30.567926Z",
     "start_time": "2024-01-31T08:50:29.108692Z"
    }
   }
  },
  {
   "cell_type": "code",
   "execution_count": 10,
   "outputs": [],
   "source": [
    "# Generate random data\n",
    "index = pd.MultiIndex.from_tuples(\n",
    "    product((\"France\", \"USA\"), (\"Transport\", \"Transport + train\"), (\"D\", \"D+P\", \"D+P+S \")),\n",
    "    names=['Country', 'Sector', 'Category']\n",
    ")\n",
    "\n",
    "np.random.seed(0)  # for reproducibility\n",
    "data = [-2.7, -2.57, -2.2, -2.67, -2.5, -2.3, - 1.7, -1.6, -0.7, -1.7, -1.55, -0.8]\n",
    "# data = -np.random.rand(len(index))\n",
    "series = pd.Series(data, index=index)\n",
    "\n",
    "n_countries = series.index.get_level_values(\"Country\").nunique()\n",
    "n_sectors = series.index.get_level_values(\"Sector\").nunique()\n",
    "n_categories = series.index.get_level_values(\"Category\").nunique()\n",
    "min_value = series.min()\n",
    "\n",
    "# Some sizes in the plot, see figure for details\n",
    "\n",
    "# Size of blank space over size of ensemble of categories\n",
    "ratio_space = 0.3\n",
    "\n",
    "# Half-Blank Sector1 Blank Sector2 ... SectorN Half-Blank\n",
    "size_sectors = 1 / (n_sectors + ratio_space * n_sectors )\n",
    "size_blank = ratio_space * size_sectors\n",
    "\n",
    "# For each sector, multiple categories displayed\n",
    "size_categories = size_sectors / n_categories\n",
    "\n",
    "# Amount of space between bars and labels\n",
    "y_text_offset = 0.15\n",
    "y_label_categories = 0.15\n",
    "y_label_sector = 0.40"
   ],
   "metadata": {
    "collapsed": false,
    "ExecuteTime": {
     "end_time": "2024-01-31T08:45:36.993262Z",
     "start_time": "2024-01-31T08:45:36.988858Z"
    }
   }
  },
  {
   "cell_type": "code",
   "execution_count": 11,
   "outputs": [
    {
     "data": {
      "text/plain": "<Figure size 625x277.778 with 1 Axes>",
      "image/png": "[encoded data removed]"
     },
     "metadata": {},
     "output_type": "display_data"
    }
   ],
   "source": [
    "## Select the country\n",
    "s_country = series.xs('France', level='Country')\n",
    "\n",
    "## The ax: we plot a single black line from 0 to 1\n",
    "\n",
    "# Get the textwidth from latex with \\the\\textwidth (or \\showthe\\textwidth).\n",
    "fig, ax = plt.subplots(figsize=(450/72, 200/72))\n",
    "ax.spines['left'].set_visible(False)  # hide the left spine\n",
    "ax.spines['right'].set_visible(False)  # hide the right spine\n",
    "ax.spines['bottom'].set_visible(False)  # hide the top spine\n",
    "ax.spines['top'].set_visible(False)  # hide the top spine\n",
    "ax.yaxis.set_visible(False)  # hide the y-axis\n",
    "ax.xaxis.set_visible(False)  # hide the y-axis\n",
    "ax.plot([0, 1], [0, 0], color='black')\n",
    "\n",
    "## Select the palette\n",
    "\n",
    "# A color-blind friendly palette\n",
    "palette = ['#377eb8', '#ff7f00', '#4daf4a', '#f781bf', '#a65628', '#984ea3', '#999999', '#e41a1c', '#dede00']\n",
    "# Default palette\n",
    "# palette = cm.tab10(9)\n",
    "\n",
    "colors = {\n",
    "    k: v for k, v in zip(\n",
    "        s_country.index.get_level_values(\"Category\").unique(),\n",
    "        palette)}\n",
    "\n",
    "# Some keyword so that s in ax.text(x, y, s) is aligned around (x, y)\n",
    "text_align = {\n",
    "    \"horizontalalignment\": \"center\", \"verticalalignment\": \"center\"\n",
    "}\n",
    "\n",
    "# We start with a blank offset\n",
    "current_x = size_blank / 2\n",
    "\n",
    "# For each sector...\n",
    "for ind_sector, sector in enumerate(s_country.index.get_level_values(\"Sector\").unique()):\n",
    "    # Restrict the dataframe\n",
    "    s_sector = s_country.xs(sector, level=\"Sector\")\n",
    "    # Print the name of the sector:\n",
    "    # Leave half a blank, then multiple sectors, then multiple full blanks\n",
    "    ax.text(size_blank * (ind_sector + 0.5) + size_sectors * (ind_sector + 0.5), y_label_sector, sector,\n",
    "            **text_align, fontsize=12)\n",
    "\n",
    "    # For each category...\n",
    "    for category in s_sector.index.get_level_values(\"Category\").unique():\n",
    "        # This is the value we plot\n",
    "        current_y = s_sector.loc[category]\n",
    "        plt.bar(current_x, current_y, width=size_categories, color=colors[category], align=\"edge\")\n",
    "\n",
    "        # This is the label\n",
    "        ax.text(current_x + size_categories / 2, y_label_categories, category,\n",
    "                **text_align)\n",
    "        # This is the value, below the bar\n",
    "        ax.text(current_x + size_categories / 2, current_y - y_text_offset, f\"{current_y:.2f}\\\\%\", **text_align)\n",
    "        # Next plot will be a bit further\n",
    "        current_x += size_categories\n",
    "\n",
    "    # We skip a blank\n",
    "    current_x += size_blank\n",
    "\n",
    "fig.savefig(f\"output_sensitivity.pdf\", transparent=True, bbox_inches='tight', pad_inches=0)\n"
   ],
   "metadata": {
    "collapsed": false,
    "ExecuteTime": {
     "end_time": "2024-01-31T08:45:42.209514Z",
     "start_time": "2024-01-31T08:45:39.052600Z"
    }
   }
  },
  {
   "cell_type": "code",
   "execution_count": null,
   "outputs": [],
   "source": [],
   "metadata": {
    "collapsed": false
   }
  },
  {
   "cell_type": "markdown",
   "source": [
    "# Emissions total"
   ],
   "metadata": {
    "collapsed": false
   }
  },
  {
   "cell_type": "code",
   "execution_count": 15,
   "outputs": [
    {
     "data": {
      "text/plain": "Country  Sector  Category\nFrance   D       Domestic   -12.00\n                 RoW         -0.58\n         D+P     Domestic   -11.80\n                 RoW          3.87\n         D+P+S   Domestic   -10.90\n                 RoW          6.90\nUSA      D       Domestic   -12.00\n                 RoW         -0.58\n         D+P     Domestic   -11.80\n                 RoW          3.87\n         D+P+S   Domestic   -10.90\n                 RoW          6.90\ndtype: float64"
     },
     "execution_count": 15,
     "metadata": {},
     "output_type": "execute_result"
    }
   ],
   "source": [
    "# For transport\n",
    "index = pd.MultiIndex.from_tuples(\n",
    "    product((\"France\", \"USA\"), (\"D\", \"D+P\", \"D+P+S \"), (\"Domestic\", \"RoW\"), ),\n",
    "    names=['Country', 'Sector', 'Category']\n",
    ")\n",
    "\n",
    "np.random.seed(0)  # for reproducibility\n",
    "data = [-12, -0.58, -11.8, 3.87, -10.9, 6.9, -109.8, -5, -95.4, 48.7, -60, 65.4]  # transport\n",
    "# data_food = [-4.3, -2.7, -5.1, 5.1, -2.5, -1.4, -4.3, -2.7, -5.1, 5.1, -2.5, -1.4]\n",
    "# data = -np.random.rand(len(index))\n",
    "series = pd.Series(data, index=index)\n",
    "\n",
    "series"
   ],
   "metadata": {
    "collapsed": false,
    "ExecuteTime": {
     "end_time": "2024-01-31T11:00:07.269913Z",
     "start_time": "2024-01-31T11:00:07.268277Z"
    }
   }
  },
  {
   "cell_type": "code",
   "execution_count": 16,
   "outputs": [],
   "source": [
    "# Some sizes in the plot, see figure for details\n",
    "\n",
    "# Size of blank space over size of ensemble of categories\n",
    "ratio_space = 0.1\n",
    "\n",
    "# Half-Blank Sector1 Blank Sector2 ... SectorN Half-Blank\n",
    "size_sectors = 1 / (n_sectors + ratio_space * n_sectors )\n",
    "size_blank = ratio_space * size_sectors\n",
    "\n",
    "# For each sector, multiple categories displayed\n",
    "size_categories = size_sectors / n_categories\n",
    "\n",
    "# Amount of space between bars and labels\n",
    "y_text_offset = 0.15\n",
    "y_label_categories = 0.15\n",
    "y_label_sector = 0.50"
   ],
   "metadata": {
    "collapsed": false,
    "ExecuteTime": {
     "end_time": "2024-01-31T11:00:19.022515Z",
     "start_time": "2024-01-31T11:00:19.015978Z"
    }
   }
  },
  {
   "cell_type": "code",
   "execution_count": 20,
   "outputs": [
    {
     "data": {
      "text/plain": "<Figure size 280.556x277.778 with 1 Axes>",
      "image/png": "[encoded data removed]"
     },
     "metadata": {},
     "output_type": "display_data"
    }
   ],
   "source": [
    "## Select the country\n",
    "country = \"France\"\n",
    "s_country = series.xs(country, level='Country')\n",
    "\n",
    "## The ax: we plot a single black line from 0 to 1\n",
    "\n",
    "# Get the textwidth from latex with \\the\\textwidth (or \\showthe\\textwidth).\n",
    "fig, ax = plt.subplots(figsize=(202/72, 200/72))\n",
    "ax.spines['left'].set_visible(False)  # hide the left spine\n",
    "ax.spines['right'].set_visible(False)  # hide the right spine\n",
    "ax.spines['bottom'].set_visible(False)  # hide the top spine\n",
    "ax.spines['top'].set_visible(False)  # hide the top spine\n",
    "ax.yaxis.set_visible(False)  # hide the y-axis\n",
    "ax.xaxis.set_visible(False)  # hide the y-axis\n",
    "\n",
    "# Some tricks in order to avoid the axis to change position between the two countries\n",
    "ax.plot([0, 1], [0, 0], color='black')\n",
    "ax.plot([0, 0], [0, min_value], color=\"white\", alpha=0)\n",
    "plt.ylim(min_value, 0.5)\n",
    "plt.xlim(0, 1)\n",
    "plt.subplots_adjust(left=0, right=1, top=0.9, bottom=0.1)\n",
    "\n",
    "## Select the palette\n",
    "\n",
    "# A color-blind friendly palette\n",
    "palette = ['#377eb8', '#ff7f00', '#4daf4a', '#f781bf', '#a65628', '#984ea3', '#999999', '#e41a1c', '#dede00']\n",
    "# Default palette\n",
    "# palette = cm.tab10(9)\n",
    "\n",
    "colors = {\n",
    "    k: v for k, v in zip(\n",
    "        s_country.index.get_level_values(\"Category\").unique(),\n",
    "        palette)}\n",
    "\n",
    "# Some keyword so that s in ax.text(x, y, s) is aligned around (x, y)\n",
    "text_align = {\n",
    "    \"horizontalalignment\": \"center\", \"verticalalignment\": \"center\"\n",
    "}\n",
    "\n",
    "# We start with a blank offset\n",
    "current_x = size_blank / 2\n",
    "\n",
    "# For each sector...\n",
    "for ind_sector, sector in enumerate(s_country.index.get_level_values(\"Sector\").unique()):\n",
    "    # Restrict the dataframe\n",
    "    s_sector = s_country.xs(sector, level=\"Sector\")\n",
    "    # Print the name of the sector:\n",
    "    # Leave half a blank, then multiple sectors, then multiple full blanks\n",
    "    ax.text(size_blank * (ind_sector + 0.5) + size_sectors * (ind_sector + 0.5), y_label_sector, sector,\n",
    "            **text_align, fontsize=9)\n",
    "\n",
    "    # For each category...\n",
    "    for category in s_sector.index.get_level_values(\"Category\").unique():\n",
    "        # This is the value we plot\n",
    "        current_y = s_sector.loc[category]\n",
    "        plt.bar(current_x, current_y, width=size_categories, color=colors[category], align=\"edge\")\n",
    "\n",
    "        # This is the label\n",
    "        ax.text(current_x + size_categories / 2, y_label_categories, category,\n",
    "                horizontalalignment=\"center\", verticalalignment=\"bottom\", rotation=0, fontsize=7)\n",
    "        # This is the value, below the bar\n",
    "        ax.text(current_x + size_categories / 2, current_y - y_text_offset, f\"{current_y:.2f}\\\\%\",\n",
    "                **text_align, fontsize=8, rotation=0)\n",
    "        # Next plot will be a bit further\n",
    "        current_x += size_categories\n",
    "\n",
    "    # We skip a blank\n",
    "    current_x += size_blank\n",
    "\n",
    "# fig.savefig(f\"output_{country}.pdf\", transparent=True, bbox_inches=Bbox([[0, min_value], [1, 0.5]]), pad_inches=0)\n",
    "fig.savefig(f\"output_{country}_emissions.pdf\", transparent=True, bbox_inches=None, pad_inches=0)\n"
   ],
   "metadata": {
    "collapsed": false,
    "ExecuteTime": {
     "end_time": "2024-01-31T11:02:31.348592Z",
     "start_time": "2024-01-31T11:02:31.255278Z"
    }
   }
  },
  {
   "cell_type": "code",
   "execution_count": null,
   "outputs": [],
   "source": [],
   "metadata": {
    "collapsed": false
   }
  }
 ],
 "metadata": {
  "kernelspec": {
   "display_name": "celia",
   "language": "python",
   "name": "python3"
  },
  "language_info": {
   "codemirror_mode": {
    "name": "ipython",
    "version": 3
   },
   "file_extension": ".py",
   "mimetype": "text/x-python",
   "name": "python",
   "nbconvert_exporter": "python",
   "pygments_lexer": "ipython3",
   "version": "3.12.1"
  }
 },
 "nbformat": 4,
 "nbformat_minor": 2
}
